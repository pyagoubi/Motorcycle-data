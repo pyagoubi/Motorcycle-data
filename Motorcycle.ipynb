{
  "nbformat": 4,
  "nbformat_minor": 0,
  "metadata": {
    "colab": {
      "provenance": [],
      "authorship_tag": "ABX9TyMjLT5Nncd/g8N27KilY4U8",
      "include_colab_link": true
    },
    "kernelspec": {
      "name": "python3",
      "display_name": "Python 3"
    },
    "language_info": {
      "name": "python"
    }
  },
  "cells": [
    {
      "cell_type": "markdown",
      "metadata": {
        "id": "view-in-github",
        "colab_type": "text"
      },
      "source": [
        "<a href=\"https://colab.research.google.com/github/pyagoubi/Motorcycle-data/blob/main/Motorcycle.ipynb\" target=\"_parent\"><img src=\"https://colab.research.google.com/assets/colab-badge.svg\" alt=\"Open In Colab\"/></a>"
      ]
    },
    {
      "cell_type": "code",
      "execution_count": 17,
      "metadata": {
        "colab": {
          "base_uri": "https://localhost:8080/"
        },
        "id": "hfzX3Acd8Ng0",
        "outputId": "6fdfc2c2-409c-4192-c732-1acf9f93083a"
      },
      "outputs": [
        {
          "output_type": "stream",
          "name": "stdout",
          "text": [
            "Drive already mounted at /content/drive; to attempt to forcibly remount, call drive.mount(\"/content/drive\", force_remount=True).\n"
          ]
        }
      ],
      "source": [
        "#Mounting Google Drive\n",
        "from google.colab import drive\n",
        "drive.mount('/content/drive')"
      ]
    },
    {
      "cell_type": "code",
      "source": [
        "%%capture\n",
        "pip install geopandas"
      ],
      "metadata": {
        "id": "eA_HQ1NU0SVo"
      },
      "execution_count": 19,
      "outputs": []
    },
    {
      "cell_type": "code",
      "source": [
        "import pandas as pd\n",
        "import matplotlib.pyplot as plt\n",
        "import numpy as np\n",
        "import math\n",
        "from sklearn.cluster import KMeans\n",
        "from sklearn.cluster import DBSCAN\n",
        "from geopy.distance import great_circle\n",
        "from shapely.geometry import MultiPoint\n",
        "import geopandas\n",
        "import geopy.distance\n",
        "\n",
        "data = pd.read_csv('/content/drive/MyDrive/upwork1/DATA1.TXT', sep=',')\n",
        "data['Gx clean'] = data['Gx']-data['Gx Cal']\n",
        "data['Gy clean'] = data['Gy']-data['Gy Cal']\n",
        "\n",
        "\n",
        "#Parameters\n",
        "\n",
        "shift_a = 30\n",
        "degree_min = 50\n",
        "min_samples = 50\n",
        "cluster_area = 0.02\n",
        "\n",
        "\n",
        "def angle_corner(df, shift_parameter = shift_a, degree_pm = degree_min):\n",
        "\n",
        "  df['degrees'] = 0\n",
        "  df['corner_a'] = 0\n",
        "\n",
        "  for i in df['SessionID'].unique():\n",
        "    \n",
        "    \n",
        "    data = df[df['SessionID'] == i]\n",
        "\n",
        "    # Convert the points to numpy latitude/longitude radians space\n",
        "\n",
        "    data['Lat converted'] = np.radians(data['Latitude'])\n",
        "    data['Lon converted'] = np.radians(data['Longitude'])\n",
        "\n",
        "    #past reference point\n",
        "    data['Lat before'] = data['Lat converted'].shift(shift_parameter)\n",
        "    data['Lon before'] = data['Lon converted'].shift(shift_parameter)\n",
        "\n",
        "    #future reference point\n",
        "    data['Lat after'] = data['Lat converted'].shift(-shift_parameter)\n",
        "    data['Lon after'] = data['Lon converted'].shift(-shift_parameter)\n",
        "\n",
        "\n",
        "    # Vectors in latitude/longitude space\n",
        "    data['vector prev'] = (np.array(data[['Lat converted', 'Lon converted']]) - np.array(data[['Lat before', 'Lon before']])).tolist()\n",
        "    data['vector past'] = (np.array(data[['Lat converted', 'Lon converted']]) - np.array(data[['Lat after', 'Lon after']])).tolist()\n",
        "\n",
        "\n",
        "    for j in range(len(data)):\n",
        "      if np.isnan(data['vector prev'][j][0]) == False:\n",
        "        data.iloc[j, data.columns.get_loc('degrees')] = np.degrees(math.acos(np.dot(data['vector prev'][j], data['vector past'][j]) / (np.linalg.norm(data['vector prev'][j]) * np.linalg.norm(data['vector past'][j]) +1e-20)))\n",
        "        #print(data.iloc[i, data.columns.get_loc('degrees')])\n",
        "    \n",
        "    data.loc[(data['degrees'] < (180 - degree_pm) )  |  (data['degrees'] > (180 + degree_pm) )    , 'corner_a'] = 1\n",
        "\n",
        "    df.loc[df['SessionID'] == i, 'corner_a'] = data['corner_a']\n",
        "    df.loc[df['SessionID'] == i, 'degrees'] = data['degrees'] \n",
        "\n",
        "\n",
        "  plt.scatter(x=df['Longitude'], y=df['Latitude'])\n",
        "  plt.scatter(x=df.loc[(df['corner_a'] == 1), 'Longitude'], y=df.loc[(df['corner_a'] == 1),'Latitude'], color = 'y')  \n",
        "\n",
        "  return df\n",
        "\n",
        "data = angle_corner(data, shift_parameter = shift_a, degree_pm = degree_min)"
      ],
      "metadata": {
        "id": "uUVpUfIG8yIS",
        "colab": {
          "base_uri": "https://localhost:8080/",
          "height": 289
        },
        "outputId": "e73a9ce9-4c7f-434a-899e-af7b508f1ac4"
      },
      "execution_count": 94,
      "outputs": [
        {
          "output_type": "display_data",
          "data": {
            "text/plain": [
              "<Figure size 432x288 with 1 Axes>"
            ],
            "image/png": "[encoded data removed]"
          },
          "metadata": {
            "needs_background": "light"
          }
        }
      ]
    },
    {
      "cell_type": "markdown",
      "source": [
        "# Identifying true corners with DBSCAN\n"
      ],
      "metadata": {
        "id": "n0tU29omnQCE"
      }
    },
    {
      "cell_type": "code",
      "source": [
        "def true_corners(df, min_samples=min_samples, cluster_area = cluster_area):\n",
        "  \n",
        "  coords = df.loc[df['corner_a']==1, ['Longitude', 'Latitude']]\n",
        "  db = DBSCAN(eps=cluster_area/6371., min_samples=min_samples, algorithm='ball_tree', metric='haversine').fit(np.radians(df.loc[df['corner_a']==1, ['Longitude', 'Latitude']]))\n",
        "\n",
        "  cluster_labels = db.labels_\n",
        "\n",
        "  df['Corner Number'] = -1\n",
        "  num_clusters = len(set(cluster_labels))\n",
        "  clusters = pd.Series([coords[cluster_labels == n] for n in range(num_clusters)])\n",
        "\n",
        "  df.loc[df['corner_a']==1, 'Corner Number'] = cluster_labels\n",
        "\n",
        "  plt.scatter(x=df['Longitude'], y=df['Latitude'])\n",
        "  plt.scatter(x=df.loc[(df['Corner Number'] >= 0), 'Longitude'], y=df.loc[(df['Corner Number'] >= 0),'Latitude'], color = 'y') \n",
        "\n",
        "  return df\n",
        "\n",
        "data = true_corners(data)\n"
      ],
      "metadata": {
        "colab": {
          "base_uri": "https://localhost:8080/",
          "height": 289
        },
        "id": "hYNxAPiQEPBu",
        "outputId": "3471288a-1848-499d-b9b7-329e95014e31"
      },
      "execution_count": 95,
      "outputs": [
        {
          "output_type": "display_data",
          "data": {
            "text/plain": [
              "<Figure size 432x288 with 1 Axes>"
            ],
            "image/png": "[encoded data removed]"
          },
          "metadata": {
            "needs_background": "light"
          }
        }
      ]
    },
    {
      "cell_type": "markdown",
      "source": [
        "# Determine Reference points "
      ],
      "metadata": {
        "id": "7Zk5j4LhGC6t"
      }
    },
    {
      "cell_type": "code",
      "source": [
        "def centroids(df):\n",
        "\n",
        "  corners_df = pd.DataFrame()\n",
        "\n",
        "  centroid_x = []\n",
        "  centroid_y = []\n",
        "\n",
        "  corners = df['Corner Number'].unique().tolist()\n",
        "  corners.remove(-1)\n",
        "\n",
        "  for corner in corners:\n",
        "    point = MultiPoint(geopandas.points_from_xy(df.loc[df['Corner Number'] == corner,'Longitude'], df.loc[df['Corner Number'] == corner, 'Latitude'] , crs=\"EPSG:4326\" ))\n",
        "    centroid_x.append(point.centroid.x)\n",
        "    centroid_y.append(point.centroid.y)\n",
        "    del point\n",
        "  \n",
        "  corners_df['Corner Nr'] = corners\n",
        "  corners_df['Longitude'] = centroid_x\n",
        "  corners_df['Latitude'] = centroid_y\n",
        "\n",
        "  plt.scatter(x=df['Longitude'], y=df['Latitude'])\n",
        "  plt.scatter(x=df.loc[(df['Corner Number'] >= 0), 'Longitude'], y=df.loc[(df['Corner Number'] >= 0),'Latitude'], color = 'y') \n",
        "  plt.scatter(x=corners_df['Longitude'], y=corners_df['Latitude'], color = 'r')\n",
        "\n",
        "  return corners_df\n",
        "\n",
        "reference_points = centroids(data)\n",
        "\n"
      ],
      "metadata": {
        "colab": {
          "base_uri": "https://localhost:8080/",
          "height": 289
        },
        "id": "kI0RU-LyGBHh",
        "outputId": "143d7d58-f3b2-4ac6-b67b-d575a6123a29"
      },
      "execution_count": 96,
      "outputs": [
        {
          "output_type": "display_data",
          "data": {
            "text/plain": [
              "<Figure size 432x288 with 1 Axes>"
            ],
            "image/png": "[encoded data removed]"
          },
          "metadata": {
            "needs_background": "light"
          }
        }
      ]
    },
    {
      "cell_type": "markdown",
      "source": [
        "# Average Breaking Distance"
      ],
      "metadata": {
        "id": "NDMvk-kjbNH_"
      }
    },
    {
      "cell_type": "markdown",
      "source": [
        "#Determine Breaking Points"
      ],
      "metadata": {
        "id": "2Qf2PJNA39wl"
      }
    },
    {
      "cell_type": "markdown",
      "source": [
        "Breaking points are considered local speed minima within a range of *proximity* meters within a corner reference point. Ths is considered the endpoint of the breaking and starting point of acceleration."
      ],
      "metadata": {
        "id": "8R0tMI5z4Ckm"
      }
    },
    {
      "cell_type": "code",
      "source": [
        "# Calculate distances between reference points and track\n",
        "\n",
        "def distances(df, maxcorner):\n",
        "\n",
        "  dfrrr\n",
        "  for i in range(maxcorner):\n",
        "    corner_lon = reference_points.loc[reference_points['Corner Nr']== i , 'Longitude'].values[0]\n",
        "    corner_lat = reference_points.loc[reference_points['Corner Nr']== i , 'Latitude'].values[0]\n",
        "    ref = (corner_lat,corner_lon)\n",
        "    print(ref)\n",
        "    for j in range(len(data)):\n",
        "      dist = geopy.distance.geodesic(ref, coordinates[j]).m   \n",
        "      distances.append(dist)\n",
        "    data[f'Distance from corner {i}'] = distances\n",
        "    distances=[]\n",
        "       "
      ],
      "metadata": {
        "id": "QDZvIO4IuH2T"
      },
      "execution_count": null,
      "outputs": []
    },
    {
      "cell_type": "code",
      "source": [],
      "metadata": {
        "id": "BqvVBWX4uHyk"
      },
      "execution_count": null,
      "outputs": []
    },
    {
      "cell_type": "code",
      "source": [
        "maxcorner = reference_points['Corner Nr'].max()\n",
        "\n",
        "data = ''"
      ],
      "metadata": {
        "id": "11EoGm0g3VMx"
      },
      "execution_count": 23,
      "outputs": []
    },
    {
      "cell_type": "code",
      "source": [
        "distances = []\n",
        "coordinates = list(zip(data['Latitude'], data['Longitude']))"
      ],
      "metadata": {
        "id": "1awk2uC_VDED"
      },
      "execution_count": 28,
      "outputs": []
    },
    {
      "cell_type": "code",
      "source": [
        "reference_points.loc[reference_points['Corner Nr']== 0 , 'Longitude'].values[0]"
      ],
      "metadata": {
        "colab": {
          "base_uri": "https://localhost:8080/"
        },
        "id": "jNeFn3NbVEaa",
        "outputId": "10403c97-83b6-4c8a-c5bc-9c6ca5f9ccfe"
      },
      "execution_count": 39,
      "outputs": [
        {
          "output_type": "execute_result",
          "data": {
            "text/plain": [
              "-77.30232493027779"
            ]
          },
          "metadata": {},
          "execution_count": 39
        }
      ]
    },
    {
      "cell_type": "code",
      "source": [
        "\n",
        "\n",
        "for i in range(maxcorner):\n",
        "  corner_lon = reference_points.loc[reference_points['Corner Nr']== i , 'Longitude'].values[0]\n",
        "  corner_lat = reference_points.loc[reference_points['Corner Nr']== i , 'Latitude'].values[0]\n",
        "  ref = (corner_lat,corner_lon)\n",
        "  print(ref)\n",
        "  for j in range(len(data)):\n",
        "    dist = geopy.distance.geodesic(ref, coordinates[j]).m   \n",
        "    distances.append(dist)\n",
        "  data[f'Distance from corner {i}'] = distances\n",
        "  distances=[]\n",
        "       \n"
      ],
      "metadata": {
        "colab": {
          "base_uri": "https://localhost:8080/"
        },
        "id": "MzGPV95Z3VIo",
        "outputId": "8fa70742-2d76-4d85-f4e8-49a6469b8e3c"
      },
      "execution_count": 111,
      "outputs": [
        {
          "output_type": "stream",
          "name": "stdout",
          "text": [
            "(38.57991059574999, -77.30232493027779)\n",
            "(38.57713672238293, -77.29965350598583)\n",
            "(38.57526129434373, -77.30163490724998)\n"
          ]
        }
      ]
    },
    {
      "cell_type": "code",
      "source": [
        "data['distance_factor'] = 0\n",
        "\n",
        "\n",
        "minids = data.groupby('Lap Number')['Distance from corner 0'].apply(lambda x: x.idxmin())\n",
        "\n",
        "\n",
        "\n",
        "\n",
        "\n",
        "\n",
        "\n"
      ],
      "metadata": {
        "id": "PQGvN2Lhhq_Z"
      },
      "execution_count": 120,
      "outputs": []
    },
    {
      "cell_type": "code",
      "source": [
        "minids[1]"
      ],
      "metadata": {
        "colab": {
          "base_uri": "https://localhost:8080/"
        },
        "id": "-p1lTksWpENj",
        "outputId": "bf7a779c-5ac5-4473-ea05-a82d5c4b168b"
      },
      "execution_count": 124,
      "outputs": [
        {
          "output_type": "execute_result",
          "data": {
            "text/plain": [
              "131"
            ]
          },
          "metadata": {},
          "execution_count": 124
        }
      ]
    },
    {
      "cell_type": "code",
      "source": [
        "del data['tmpindex'] "
      ],
      "metadata": {
        "id": "z-vTmnd2qOy0"
      },
      "execution_count": 132,
      "outputs": []
    },
    {
      "cell_type": "code",
      "source": [
        "data.loc[(data.index <= minids[2])  & (data['Lap Number'] == 2) ,'Distance from corner 0'] *= -1"
      ],
      "metadata": {
        "id": "nEiqkQh6pVlC"
      },
      "execution_count": 136,
      "outputs": []
    },
    {
      "cell_type": "code",
      "source": [
        "data['Distance from corner 0']"
      ],
      "metadata": {
        "colab": {
          "base_uri": "https://localhost:8080/"
        },
        "id": "GxP1ttUNrhHd",
        "outputId": "f288c18a-c926-49f5-862c-4a9a9c647d70"
      },
      "execution_count": 135,
      "outputs": [
        {
          "output_type": "execute_result",
          "data": {
            "text/plain": [
              "0      -131.011931\n",
              "1      -130.289803\n",
              "2      -129.220102\n",
              "3      -127.429202\n",
              "4      -126.349888\n",
              "           ...    \n",
              "4197    289.686276\n",
              "4198    289.686276\n",
              "4199    289.686276\n",
              "4200    289.686276\n",
              "4201    289.686276\n",
              "Name: Distance from corner 0, Length: 4202, dtype: float64"
            ]
          },
          "metadata": {},
          "execution_count": 135
        }
      ]
    },
    {
      "cell_type": "code",
      "source": [
        "data['Distance from corner 0'] = data.groupby('Lap Number')['Distance from corner 0'].transform(lambda x: x[x['Distance from Corner 0'] ==x['Distance from Corner 0'].min()   * -1)"
      ],
      "metadata": {
        "id": "7Jajhh40jL55"
      },
      "execution_count": null,
      "outputs": []
    },
    {
      "cell_type": "code",
      "source": [
        "data.loc[data['Lap Number'] == 2 , 'Distance from corner 0']"
      ],
      "metadata": {
        "colab": {
          "base_uri": "https://localhost:8080/"
        },
        "id": "PBD2VcVrirum",
        "outputId": "8c05a99e-cc0b-4115-dd84-c759bd21eacf"
      },
      "execution_count": 107,
      "outputs": [
        {
          "output_type": "execute_result",
          "data": {
            "text/plain": [
              "813    -130.278114\n",
              "814    -129.214271\n",
              "815    -127.787551\n",
              "816    -125.302531\n",
              "817    -123.876928\n",
              "           ...    \n",
              "1475   -139.981624\n",
              "1476   -136.754836\n",
              "1477   -134.960476\n",
              "1478   -133.166660\n",
              "1479   -131.720195\n",
              "Name: Distance from corner 0, Length: 667, dtype: float64"
            ]
          },
          "metadata": {},
          "execution_count": 107
        }
      ]
    },
    {
      "cell_type": "code",
      "source": [
        "data['Distance from corner 0']"
      ],
      "metadata": {
        "id": "IWSQ3Tvuhzpu"
      },
      "execution_count": null,
      "outputs": []
    },
    {
      "cell_type": "code",
      "source": [
        "import seaborn as sns"
      ],
      "metadata": {
        "id": "l8_F_J4dWKdk"
      },
      "execution_count": 41,
      "outputs": []
    },
    {
      "cell_type": "code",
      "source": [
        "sns.lineplot(data=data[data['Lap Number']==2], x='Distance from corner 0', y='Speed')"
      ],
      "metadata": {
        "colab": {
          "base_uri": "https://localhost:8080/",
          "height": 296
        },
        "id": "0LE2ab6EWiw_",
        "outputId": "0dbdeeb6-3caf-4d97-aeac-480cc8fddac7"
      },
      "execution_count": 139,
      "outputs": [
        {
          "output_type": "execute_result",
          "data": {
            "text/plain": [
              "<AxesSubplot:xlabel='Distance from corner 0', ylabel='Speed'>"
            ]
          },
          "metadata": {},
          "execution_count": 139
        },
        {
          "output_type": "display_data",
          "data": {
            "text/plain": [
              "<Figure size 432x288 with 1 Axes>"
            ],
            "image/png": "[encoded data removed]"
          },
          "metadata": {
            "needs_background": "light"
          }
        }
      ]
    },
    {
      "cell_type": "code",
      "source": [
        "temp=[1,2,34]\n",
        "temp=[]\n",
        "temp"
      ],
      "metadata": {
        "colab": {
          "base_uri": "https://localhost:8080/"
        },
        "id": "R8Z_5orZ3VFt",
        "outputId": "2e972484-f237-4941-b95f-86964d4ec364"
      },
      "execution_count": 16,
      "outputs": [
        {
          "output_type": "execute_result",
          "data": {
            "text/plain": [
              "[]"
            ]
          },
          "metadata": {},
          "execution_count": 16
        }
      ]
    },
    {
      "cell_type": "code",
      "source": [
        "data[data['Lap Number']==1].iloc[data['Distance from corner 0'].idxmin()+1:, data.columns.get_loc('Distance from corner 0')] =data[data['Lap Number']==1].iloc[data['Distance from corner 0'].idxmin()+1:, data.columns.get_loc('Distance from corner 0')] *-1"
      ],
      "metadata": {
        "id": "r7oWD_laY0UX"
      },
      "execution_count": null,
      "outputs": []
    },
    {
      "cell_type": "code",
      "source": [
        "data['Distance from corner 0']"
      ],
      "metadata": {
        "colab": {
          "base_uri": "https://localhost:8080/"
        },
        "id": "eDSe_aX7aq1z",
        "outputId": "f419edac-5225-460e-a8a8-2fc634fc6b78"
      },
      "execution_count": 98,
      "outputs": [
        {
          "output_type": "execute_result",
          "data": {
            "text/plain": [
              "0       131.011931\n",
              "1       130.289803\n",
              "2       129.220102\n",
              "3       127.429202\n",
              "4       126.349888\n",
              "           ...    \n",
              "4197    289.686276\n",
              "4198    289.686276\n",
              "4199    289.686276\n",
              "4200    289.686276\n",
              "4201    289.686276\n",
              "Name: Distance from corner 0, Length: 4202, dtype: float64"
            ]
          },
          "metadata": {},
          "execution_count": 98
        }
      ]
    },
    {
      "cell_type": "code",
      "source": [
        "data.iloc[data['Distance from corner 0'].idxmin() :, data.columns.get_loc('Distance from corner 0')]"
      ],
      "metadata": {
        "colab": {
          "base_uri": "https://localhost:8080/"
        },
        "id": "-Uyjg1j8e0SM",
        "outputId": "15c35d05-ccc3-4261-ff2c-c01b5d5efed9"
      },
      "execution_count": 78,
      "outputs": [
        {
          "output_type": "execute_result",
          "data": {
            "text/plain": [
              "131       0.447020\n",
              "132       0.841316\n",
              "133       1.201815\n",
              "134       1.880580\n",
              "135       2.270951\n",
              "           ...    \n",
              "4197    289.686276\n",
              "4198    289.686276\n",
              "4199    289.686276\n",
              "4200    289.686276\n",
              "4201    289.686276\n",
              "Name: Distance from corner 0, Length: 4071, dtype: float64"
            ]
          },
          "metadata": {},
          "execution_count": 78
        }
      ]
    },
    {
      "cell_type": "code",
      "source": [
        "\n",
        "data['Distance from corner 0'] = data.groupby('Lap Number')['Distance from corner 0'].transform(lambda x: x[:x.idxmin()]* -1)\n",
        "\n",
        "\n",
        "\n"
      ],
      "metadata": {
        "id": "rpe7nNkMbGxG"
      },
      "execution_count": 91,
      "outputs": []
    },
    {
      "cell_type": "code",
      "source": [
        "data"
      ],
      "metadata": {
        "colab": {
          "base_uri": "https://localhost:8080/"
        },
        "id": "LrH3ttbphDzD",
        "outputId": "10c1034c-b01c-489e-9177-78029c165aa1"
      },
      "execution_count": 93,
      "outputs": [
        {
          "output_type": "execute_result",
          "data": {
            "text/plain": [
              "0      -131.011931\n",
              "1      -130.289803\n",
              "2      -129.220102\n",
              "3      -127.429202\n",
              "4      -126.349888\n",
              "           ...    \n",
              "4197   -289.686276\n",
              "4198   -289.686276\n",
              "4199   -289.686276\n",
              "4200   -289.686276\n",
              "4201   -289.686276\n",
              "Name: Distance from corner 0, Length: 4202, dtype: float64"
            ]
          },
          "metadata": {},
          "execution_count": 93
        }
      ]
    },
    {
      "cell_type": "code",
      "source": [],
      "metadata": {
        "id": "RkU-im6BeH7F"
      },
      "execution_count": null,
      "outputs": []
    },
    {
      "cell_type": "code",
      "source": [],
      "metadata": {
        "id": "rPfQXm5KeH4f"
      },
      "execution_count": null,
      "outputs": []
    },
    {
      "cell_type": "code",
      "source": [],
      "metadata": {
        "id": "WkFq2LX3eH13"
      },
      "execution_count": null,
      "outputs": []
    },
    {
      "cell_type": "code",
      "source": [],
      "metadata": {
        "id": "2wr8lfBleHzJ"
      },
      "execution_count": null,
      "outputs": []
    },
    {
      "cell_type": "code",
      "source": [],
      "metadata": {
        "id": "giQeDt0BeHqO"
      },
      "execution_count": null,
      "outputs": []
    },
    {
      "cell_type": "code",
      "source": [
        "data.iloc[data[data['Distance from corner 0'] ==data['Distance from corner 0'].min()].index :, 'Distance from corner 0']"
      ],
      "metadata": {
        "colab": {
          "base_uri": "https://localhost:8080/",
          "height": 432
        },
        "id": "eam3c_xeXbkd",
        "outputId": "ad6e2d1b-fb31-479e-a075-ed0e443881b9"
      },
      "execution_count": 52,
      "outputs": [
        {
          "output_type": "error",
          "ename": "ValueError",
          "evalue": "ignored",
          "traceback": [
            "\u001b[0;31m---------------------------------------------------------------------------\u001b[0m",
            "\u001b[0;31mValueError\u001b[0m                                Traceback (most recent call last)",
            "\u001b[0;32m/usr/local/lib/python3.8/dist-packages/pandas/core/indexing.py\u001b[0m in \u001b[0;36m_has_valid_tuple\u001b[0;34m(self, key)\u001b[0m\n\u001b[1;32m    753\u001b[0m             \u001b[0;32mtry\u001b[0m\u001b[0;34m:\u001b[0m\u001b[0;34m\u001b[0m\u001b[0;34m\u001b[0m\u001b[0m\n\u001b[0;32m--> 754\u001b[0;31m                 \u001b[0mself\u001b[0m\u001b[0;34m.\u001b[0m\u001b[0m_validate_key\u001b[0m\u001b[0;34m(\u001b[0m\u001b[0mk\u001b[0m\u001b[0;34m,\u001b[0m \u001b[0mi\u001b[0m\u001b[0;34m)\u001b[0m\u001b[0;34m\u001b[0m\u001b[0;34m\u001b[0m\u001b[0m\n\u001b[0m\u001b[1;32m    755\u001b[0m             \u001b[0;32mexcept\u001b[0m \u001b[0mValueError\u001b[0m \u001b[0;32mas\u001b[0m \u001b[0merr\u001b[0m\u001b[0;34m:\u001b[0m\u001b[0;34m\u001b[0m\u001b[0;34m\u001b[0m\u001b[0m\n",
            "\u001b[0;32m/usr/local/lib/python3.8/dist-packages/pandas/core/indexing.py\u001b[0m in \u001b[0;36m_validate_key\u001b[0;34m(self, key, axis)\u001b[0m\n\u001b[1;32m   1425\u001b[0m         \u001b[0;32melse\u001b[0m\u001b[0;34m:\u001b[0m\u001b[0;34m\u001b[0m\u001b[0;34m\u001b[0m\u001b[0m\n\u001b[0;32m-> 1426\u001b[0;31m             \u001b[0;32mraise\u001b[0m \u001b[0mValueError\u001b[0m\u001b[0;34m(\u001b[0m\u001b[0;34mf\"Can only index by location with a [{self._valid_types}]\"\u001b[0m\u001b[0;34m)\u001b[0m\u001b[0;34m\u001b[0m\u001b[0;34m\u001b[0m\u001b[0m\n\u001b[0m\u001b[1;32m   1427\u001b[0m \u001b[0;34m\u001b[0m\u001b[0m\n",
            "\u001b[0;31mValueError\u001b[0m: Can only index by location with a [integer, integer slice (START point is INCLUDED, END point is EXCLUDED), listlike of integers, boolean array]",
            "\nThe above exception was the direct cause of the following exception:\n",
            "\u001b[0;31mValueError\u001b[0m                                Traceback (most recent call last)",
            "\u001b[0;32m<ipython-input-52-ecd5d2d2446a>\u001b[0m in \u001b[0;36m<module>\u001b[0;34m\u001b[0m\n\u001b[0;32m----> 1\u001b[0;31m \u001b[0mdata\u001b[0m\u001b[0;34m.\u001b[0m\u001b[0miloc\u001b[0m\u001b[0;34m[\u001b[0m\u001b[0mdata\u001b[0m\u001b[0;34m[\u001b[0m\u001b[0mdata\u001b[0m\u001b[0;34m[\u001b[0m\u001b[0;34m'Distance from corner 0'\u001b[0m\u001b[0;34m]\u001b[0m \u001b[0;34m==\u001b[0m\u001b[0mdata\u001b[0m\u001b[0;34m[\u001b[0m\u001b[0;34m'Distance from corner 0'\u001b[0m\u001b[0;34m]\u001b[0m\u001b[0;34m.\u001b[0m\u001b[0mmin\u001b[0m\u001b[0;34m(\u001b[0m\u001b[0;34m)\u001b[0m\u001b[0;34m]\u001b[0m\u001b[0;34m.\u001b[0m\u001b[0mindex\u001b[0m \u001b[0;34m:\u001b[0m\u001b[0;34m,\u001b[0m \u001b[0;34m'Distance from corner 0'\u001b[0m\u001b[0;34m]\u001b[0m\u001b[0;34m\u001b[0m\u001b[0;34m\u001b[0m\u001b[0m\n\u001b[0m",
            "\u001b[0;32m/usr/local/lib/python3.8/dist-packages/pandas/core/indexing.py\u001b[0m in \u001b[0;36m__getitem__\u001b[0;34m(self, key)\u001b[0m\n\u001b[1;32m    923\u001b[0m                 \u001b[0;32mwith\u001b[0m \u001b[0msuppress\u001b[0m\u001b[0;34m(\u001b[0m\u001b[0mKeyError\u001b[0m\u001b[0;34m,\u001b[0m \u001b[0mIndexError\u001b[0m\u001b[0;34m)\u001b[0m\u001b[0;34m:\u001b[0m\u001b[0;34m\u001b[0m\u001b[0;34m\u001b[0m\u001b[0m\n\u001b[1;32m    924\u001b[0m                     \u001b[0;32mreturn\u001b[0m \u001b[0mself\u001b[0m\u001b[0;34m.\u001b[0m\u001b[0mobj\u001b[0m\u001b[0;34m.\u001b[0m\u001b[0m_get_value\u001b[0m\u001b[0;34m(\u001b[0m\u001b[0;34m*\u001b[0m\u001b[0mkey\u001b[0m\u001b[0;34m,\u001b[0m \u001b[0mtakeable\u001b[0m\u001b[0;34m=\u001b[0m\u001b[0mself\u001b[0m\u001b[0;34m.\u001b[0m\u001b[0m_takeable\u001b[0m\u001b[0;34m)\u001b[0m\u001b[0;34m\u001b[0m\u001b[0;34m\u001b[0m\u001b[0m\n\u001b[0;32m--> 925\u001b[0;31m             \u001b[0;32mreturn\u001b[0m \u001b[0mself\u001b[0m\u001b[0;34m.\u001b[0m\u001b[0m_getitem_tuple\u001b[0m\u001b[0;34m(\u001b[0m\u001b[0mkey\u001b[0m\u001b[0;34m)\u001b[0m\u001b[0;34m\u001b[0m\u001b[0;34m\u001b[0m\u001b[0m\n\u001b[0m\u001b[1;32m    926\u001b[0m         \u001b[0;32melse\u001b[0m\u001b[0;34m:\u001b[0m\u001b[0;34m\u001b[0m\u001b[0;34m\u001b[0m\u001b[0m\n\u001b[1;32m    927\u001b[0m             \u001b[0;31m# we by definition only have the 0th axis\u001b[0m\u001b[0;34m\u001b[0m\u001b[0;34m\u001b[0m\u001b[0;34m\u001b[0m\u001b[0m\n",
            "\u001b[0;32m/usr/local/lib/python3.8/dist-packages/pandas/core/indexing.py\u001b[0m in \u001b[0;36m_getitem_tuple\u001b[0;34m(self, tup)\u001b[0m\n\u001b[1;32m   1504\u001b[0m     \u001b[0;32mdef\u001b[0m \u001b[0m_getitem_tuple\u001b[0m\u001b[0;34m(\u001b[0m\u001b[0mself\u001b[0m\u001b[0;34m,\u001b[0m \u001b[0mtup\u001b[0m\u001b[0;34m:\u001b[0m \u001b[0mtuple\u001b[0m\u001b[0;34m)\u001b[0m\u001b[0;34m:\u001b[0m\u001b[0;34m\u001b[0m\u001b[0;34m\u001b[0m\u001b[0m\n\u001b[1;32m   1505\u001b[0m \u001b[0;34m\u001b[0m\u001b[0m\n\u001b[0;32m-> 1506\u001b[0;31m         \u001b[0mself\u001b[0m\u001b[0;34m.\u001b[0m\u001b[0m_has_valid_tuple\u001b[0m\u001b[0;34m(\u001b[0m\u001b[0mtup\u001b[0m\u001b[0;34m)\u001b[0m\u001b[0;34m\u001b[0m\u001b[0;34m\u001b[0m\u001b[0m\n\u001b[0m\u001b[1;32m   1507\u001b[0m         \u001b[0;32mwith\u001b[0m \u001b[0msuppress\u001b[0m\u001b[0;34m(\u001b[0m\u001b[0mIndexingError\u001b[0m\u001b[0;34m)\u001b[0m\u001b[0;34m:\u001b[0m\u001b[0;34m\u001b[0m\u001b[0;34m\u001b[0m\u001b[0m\n\u001b[1;32m   1508\u001b[0m             \u001b[0;32mreturn\u001b[0m \u001b[0mself\u001b[0m\u001b[0;34m.\u001b[0m\u001b[0m_getitem_lowerdim\u001b[0m\u001b[0;34m(\u001b[0m\u001b[0mtup\u001b[0m\u001b[0;34m)\u001b[0m\u001b[0;34m\u001b[0m\u001b[0;34m\u001b[0m\u001b[0m\n",
            "\u001b[0;32m/usr/local/lib/python3.8/dist-packages/pandas/core/indexing.py\u001b[0m in \u001b[0;36m_has_valid_tuple\u001b[0;34m(self, key)\u001b[0m\n\u001b[1;32m    754\u001b[0m                 \u001b[0mself\u001b[0m\u001b[0;34m.\u001b[0m\u001b[0m_validate_key\u001b[0m\u001b[0;34m(\u001b[0m\u001b[0mk\u001b[0m\u001b[0;34m,\u001b[0m \u001b[0mi\u001b[0m\u001b[0;34m)\u001b[0m\u001b[0;34m\u001b[0m\u001b[0;34m\u001b[0m\u001b[0m\n\u001b[1;32m    755\u001b[0m             \u001b[0;32mexcept\u001b[0m \u001b[0mValueError\u001b[0m \u001b[0;32mas\u001b[0m \u001b[0merr\u001b[0m\u001b[0;34m:\u001b[0m\u001b[0;34m\u001b[0m\u001b[0;34m\u001b[0m\u001b[0m\n\u001b[0;32m--> 756\u001b[0;31m                 raise ValueError(\n\u001b[0m\u001b[1;32m    757\u001b[0m                     \u001b[0;34m\"Location based indexing can only have \"\u001b[0m\u001b[0;34m\u001b[0m\u001b[0;34m\u001b[0m\u001b[0m\n\u001b[1;32m    758\u001b[0m                     \u001b[0;34mf\"[{self._valid_types}] types\"\u001b[0m\u001b[0;34m\u001b[0m\u001b[0;34m\u001b[0m\u001b[0m\n",
            "\u001b[0;31mValueError\u001b[0m: Location based indexing can only have [integer, integer slice (START point is INCLUDED, END point is EXCLUDED), listlike of integers, boolean array] types"
          ]
        }
      ]
    },
    {
      "cell_type": "code",
      "source": [
        "maxcorner= reference_points['Corner Nr'].max()"
      ],
      "metadata": {
        "id": "ODZ9vwiE1dOJ"
      },
      "execution_count": 8,
      "outputs": []
    },
    {
      "cell_type": "code",
      "source": [],
      "metadata": {
        "id": "3iKOjOOC2A3r"
      },
      "execution_count": null,
      "outputs": []
    },
    {
      "cell_type": "code",
      "source": [
        "temp = pd.DataFrame()\n",
        "temp[[f'DIstance from corner {i}' for i in range(maxcorner)] ] =0\n",
        "temp"
      ],
      "metadata": {
        "colab": {
          "base_uri": "https://localhost:8080/",
          "height": 49
        },
        "id": "UrisQip71wSy",
        "outputId": "2bde355e-b6a0-433c-dd69-64030cce7363"
      },
      "execution_count": 13,
      "outputs": [
        {
          "output_type": "execute_result",
          "data": {
            "text/plain": [
              "Empty DataFrame\n",
              "Columns: [DIstance from corner 0, DIstance from corner 1, DIstance from corner 2]\n",
              "Index: []"
            ],
            "text/html": [
              "\n",
              "  <div id=\"df-4e636243-6fb4-4dfc-aa65-b1031aaaac06\">\n",
              "    <div class=\"colab-df-container\">\n",
              "      <div>\n",
              "<style scoped>\n",
              "    .dataframe tbody tr th:only-of-type {\n",
              "        vertical-align: middle;\n",
              "    }\n",
              "\n",
              "    .dataframe tbody tr th {\n",
              "        vertical-align: top;\n",
              "    }\n",
              "\n",
              "    .dataframe thead th {\n",
              "        text-align: right;\n",
              "    }\n",
              "</style>\n",
              "<table border=\"1\" class=\"dataframe\">\n",
              "  <thead>\n",
              "    <tr style=\"text-align: right;\">\n",
              "      <th></th>\n",
              "      <th>DIstance from corner 0</th>\n",
              "      <th>DIstance from corner 1</th>\n",
              "      <th>DIstance from corner 2</th>\n",
              "    </tr>\n",
              "  </thead>\n",
              "  <tbody>\n",
              "  </tbody>\n",
              "</table>\n",
              "</div>\n",
              "      <button class=\"colab-df-convert\" onclick=\"convertToInteractive('df-4e636243-6fb4-4dfc-aa65-b1031aaaac06')\"\n",
              "              title=\"Convert this dataframe to an interactive table.\"\n",
              "              style=\"display:none;\">\n",
              "        \n",
              "  <svg xmlns=\"http://www.w3.org/2000/svg\" height=\"24px\"viewBox=\"0 0 24 24\"\n",
              "       width=\"24px\">\n",
              "    <path d=\"M0 0h24v24H0V0z\" fill=\"none\"/>\n",
              "    <path d=\"M18.56 5.44l.94 2.06.94-2.06 2.06-.94-2.06-.94-.94-2.06-.94 2.06-2.06.94zm-11 1L8.5 8.5l.94-2.06 2.06-.94-2.06-.94L8.5 2.5l-.94 2.06-2.06.94zm10 10l.94 2.06.94-2.06 2.06-.94-2.06-.94-.94-2.06-.94 2.06-2.06.94z\"/><path d=\"M17.41 7.96l-1.37-1.37c-.4-.4-.92-.59-1.43-.59-.52 0-1.04.2-1.43.59L10.3 9.45l-7.72 7.72c-.78.78-.78 2.05 0 2.83L4 21.41c.39.39.9.59 1.41.59.51 0 1.02-.2 1.41-.59l7.78-7.78 2.81-2.81c.8-.78.8-2.07 0-2.86zM5.41 20L4 18.59l7.72-7.72 1.47 1.35L5.41 20z\"/>\n",
              "  </svg>\n",
              "      </button>\n",
              "      \n",
              "  <style>\n",
              "    .colab-df-container {\n",
              "      display:flex;\n",
              "      flex-wrap:wrap;\n",
              "      gap: 12px;\n",
              "    }\n",
              "\n",
              "    .colab-df-convert {\n",
              "      background-color: #E8F0FE;\n",
              "      border: none;\n",
              "      border-radius: 50%;\n",
              "      cursor: pointer;\n",
              "      display: none;\n",
              "      fill: #1967D2;\n",
              "      height: 32px;\n",
              "      padding: 0 0 0 0;\n",
              "      width: 32px;\n",
              "    }\n",
              "\n",
              "    .colab-df-convert:hover {\n",
              "      background-color: #E2EBFA;\n",
              "      box-shadow: 0px 1px 2px rgba(60, 64, 67, 0.3), 0px 1px 3px 1px rgba(60, 64, 67, 0.15);\n",
              "      fill: #174EA6;\n",
              "    }\n",
              "\n",
              "    [theme=dark] .colab-df-convert {\n",
              "      background-color: #3B4455;\n",
              "      fill: #D2E3FC;\n",
              "    }\n",
              "\n",
              "    [theme=dark] .colab-df-convert:hover {\n",
              "      background-color: #434B5C;\n",
              "      box-shadow: 0px 1px 3px 1px rgba(0, 0, 0, 0.15);\n",
              "      filter: drop-shadow(0px 1px 2px rgba(0, 0, 0, 0.3));\n",
              "      fill: #FFFFFF;\n",
              "    }\n",
              "  </style>\n",
              "\n",
              "      <script>\n",
              "        const buttonEl =\n",
              "          document.querySelector('#df-4e636243-6fb4-4dfc-aa65-b1031aaaac06 button.colab-df-convert');\n",
              "        buttonEl.style.display =\n",
              "          google.colab.kernel.accessAllowed ? 'block' : 'none';\n",
              "\n",
              "        async function convertToInteractive(key) {\n",
              "          const element = document.querySelector('#df-4e636243-6fb4-4dfc-aa65-b1031aaaac06');\n",
              "          const dataTable =\n",
              "            await google.colab.kernel.invokeFunction('convertToInteractive',\n",
              "                                                     [key], {});\n",
              "          if (!dataTable) return;\n",
              "\n",
              "          const docLinkHtml = 'Like what you see? Visit the ' +\n",
              "            '<a target=\"_blank\" href=https://colab.research.google.com/notebooks/data_table.ipynb>data table notebook</a>'\n",
              "            + ' to learn more about interactive tables.';\n",
              "          element.innerHTML = '';\n",
              "          dataTable['output_type'] = 'display_data';\n",
              "          await google.colab.output.renderOutput(dataTable, element);\n",
              "          const docLink = document.createElement('div');\n",
              "          docLink.innerHTML = docLinkHtml;\n",
              "          element.appendChild(docLink);\n",
              "        }\n",
              "      </script>\n",
              "    </div>\n",
              "  </div>\n",
              "  "
            ]
          },
          "metadata": {},
          "execution_count": 13
        }
      ]
    },
    {
      "cell_type": "code",
      "source": [
        "reference_points['Corner Nr']\n",
        "\n",
        "df = df.assign(col_name=[f'DIstance from corner {}'    ])"
      ],
      "metadata": {
        "id": "vZevfCen0qgI"
      },
      "execution_count": null,
      "outputs": []
    },
    {
      "cell_type": "code",
      "source": [
        "data['distance'] = 0"
      ],
      "metadata": {
        "id": "Ik5YkUVHdjKP"
      },
      "execution_count": null,
      "outputs": []
    },
    {
      "cell_type": "code",
      "source": [
        "data['distance'].groupby('Lap Number').apply()"
      ],
      "metadata": {
        "colab": {
          "base_uri": "https://localhost:8080/"
        },
        "id": "ynCsdCQ8bSgU",
        "outputId": "bb4641c2-36fa-441c-ff17-3467228c7138"
      },
      "execution_count": null,
      "outputs": [
        {
          "output_type": "execute_result",
          "data": {
            "text/plain": [
              "<pandas.core.groupby.generic.DataFrameGroupBy object at 0x7f8705831f10>"
            ]
          },
          "metadata": {},
          "execution_count": 102
        }
      ]
    },
    {
      "cell_type": "code",
      "source": [
        "a = zip(data['Latitude'], data['Longitude'])\n",
        "\n",
        "a = list(a)\n",
        "t = []\n",
        "te = []\n",
        "for i in range(1, len(a)):\n",
        " t.append(geopy.distance.geodesic(a[i], a[i-1]).m)\n",
        " te.append(geopy.distance.geodesic(a[i], a[i-1]).km)\n",
        "\n",
        "t"
      ],
      "metadata": {
        "id": "b3wMmc5ReRLn"
      },
      "execution_count": null,
      "outputs": []
    },
    {
      "cell_type": "code",
      "source": [
        "te"
      ],
      "metadata": {
        "id": "v1yVIDglgAH_",
        "outputId": "135a64fc-59c0-4eb1-a9e3-9c272bae9695",
        "colab": {
          "base_uri": "https://localhost:8080/"
        }
      },
      "execution_count": null,
      "outputs": [
        {
          "output_type": "execute_result",
          "data": {
            "text/plain": [
              "[0.0008468759072224651,\n",
              " 0.0010767657842651085,\n",
              " 0.0018195375633309138,\n",
              " 0.0012703693700497117,\n",
              " 0.002153390021468709,\n",
              " 0.0018196407675056072,\n",
              " 0.002219181042225713,\n",
              " 0.0012704803913798632,\n",
              " 0.0007881455577282983,\n",
              " 0.0025002223484259928,\n",
              " 0.0014337917467953452,\n",
              " 0.0008468759262294629,\n",
              " 0.001076765018916664,\n",
              " 0.001270369396923364,\n",
              " 0.001076623790925417,\n",
              " 0.000846986938437194,\n",
              " 0.001076623705296905,\n",
              " 0.0014338319021906013,\n",
              " 0.0010766235983503932,\n",
              " 0.001076710876838455,\n",
              " 0.0012703694105386486,\n",
              " 0.0008468759382479439,\n",
              " 0.0010767645300008278,\n",
              " 0.0010766233645532178,\n",
              " 0.0012703694176231252,\n",
              " 0.0021533875957389873,\n",
              " 0.0014337911424158955,\n",
              " 0.001693862903206031,\n",
              " 0.0010766768290285114,\n",
              " 0.003572713732709417,\n",
              " 0.0012703694359998234,\n",
              " 0.0010767100884013447,\n",
              " 0.0018195683493475248,\n",
              " 0.0012703694434391454,\n",
              " 0.0007882030416434869,\n",
              " 0.0014338310919904988,\n",
              " 0.0010767098126719598,\n",
              " 0.0010766224496174049,\n",
              " 0.0012703694542564,\n",
              " 0.0008469869746403745,\n",
              " 0.0010766761063151257,\n",
              " 0.0010766222566886104,\n",
              " 0.0014338308436510157,\n",
              " 0.0010767094733416531,\n",
              " 0.001433790363036435,\n",
              " 0.0010766758504899836,\n",
              " 0.0008469869839505723,\n",
              " 0.0012703694706676428,\n",
              " 0.0010766218946250618,\n",
              " 0.0025002185103325265,\n",
              " 0.0010766217471606875,\n",
              " 0.0010766755104536741,\n",
              " 0.002219259707685588,\n",
              " 0.002500123992416796,\n",
              " 0.0010767087705333832,\n",
              " 0.0014338302513245101,\n",
              " 0.0018196390762622641,\n",
              " 0.0010766212575401132,\n",
              " 0.0010766750215388393,\n",
              " 0.0014338880335416962,\n",
              " 0.0010766749138831904,\n",
              " 0.0008468760002491953,\n",
              " 0.0021533293270307,\n",
              " 0.0015764750002310516,\n",
              " 0.0010766747017572913,\n",
              " 0.0012703695126160008,\n",
              " 0.000788200563318007,\n",
              " 0.0014337893820821337,\n",
              " 0.0007882739373968231,\n",
              " 0.0010766206829948416,\n",
              " 0.0014338296912341216,\n",
              " 0.0018388828591601029,\n",
              " 0.00143382959770803,\n",
              " 0.0007882000904810182,\n",
              " 0.0010766742331012632,\n",
              " 0.001819638545023397,\n",
              " 0.0018389452085373968,\n",
              " 0.0014337889934553948,\n",
              " 0.0029087374844029147,\n",
              " 0.0008468760272933664,\n",
              " 0.0013954301263061557,\n",
              " 0.0008468760292602025,\n",
              " 0.0010767610816853584,\n",
              " 0.0007881397147714188,\n",
              " 0.0004234935197881725,\n",
              " 0.0010766198739472173,\n",
              " 0.0010767609544812436,\n",
              " 0.0006647640194514793,\n",
              " 0.0010766735956623088,\n",
              " 0.0007881991153012253,\n",
              " 0.0008468760355459324,\n",
              " 0.0,\n",
              " 0.0010767070039138806,\n",
              " 0.0007882128282236244,\n",
              " 0.0018388805985551067,\n",
              " 0.0,\n",
              " 0.0007882723436075208,\n",
              " 0.0004234935231246834,\n",
              " 0.0014337884627706964,\n",
              " 0.000788272195006973,\n",
              " 0.0007881390374989868,\n",
              " 0.0004234935257998293,\n",
              " 0.0010766193853845414,\n",
              " 0.0006648504177431382,\n",
              " 0.0,\n",
              " 0.0007881985567676563,\n",
              " 0.00042349352581432686,\n",
              " 0.0,\n",
              " 0.0004234935262589189,\n",
              " 0.0,\n",
              " 0.0007882123276465254,\n",
              " 0.0,\n",
              " 0.0004234935275063998,\n",
              " 0.0006647631064937762,\n",
              " 0.0,\n",
              " 0.0,\n",
              " 0.0004234935286558496,\n",
              " 0.0006647630700912341,\n",
              " 0.0004233825196120392,\n",
              " 0.0,\n",
              " 0.0006648501715795312,\n",
              " 0.00042349352884017574,\n",
              " 0.0,\n",
              " 0.0007881983185829,\n",
              " 0.0,\n",
              " 0.00042338252165619587,\n",
              " 0.0006648500673203964,\n",
              " 0.0007881982613343214,\n",
              " 0.0004234935292102088,\n",
              " 0.0007881982026713494,\n",
              " 0.0006648499605754539,\n",
              " 0.0004233825223796933,\n",
              " 0.0006647627900429802,\n",
              " 0.000846987061185312,\n",
              " 0.0006648498550779842,\n",
              " 0.0013953102009706619,\n",
              " 0.0006648498199183008,\n",
              " 0.001329612504477628,\n",
              " 0.0006647626833210475,\n",
              " 0.0006647626833210475,\n",
              " 0.0013953932301896137,\n",
              " 0.0006648498550779842,\n",
              " 0.000423493531698267,\n",
              " 0.0006647627536404125,\n",
              " 0.0007881981429483183,\n",
              " 0.0006648499254157792,\n",
              " 0.0007881385340946607,\n",
              " 0.0007882716944301735,\n",
              " 0.0010767064513973821,\n",
              " 0.0007881386528320613,\n",
              " 0.000788271811755191,\n",
              " 0.0007881983491511297,\n",
              " 0.0007881387427707775,\n",
              " 0.0013954276501048444,\n",
              " 0.0010766730826017054,\n",
              " 0.0007881984963386435,\n",
              " 0.0010767066652909059,\n",
              " 0.0015764110536902434,\n",
              " 0.0015764111710163452,\n",
              " 0.0007881987050151352,\n",
              " 0.0004234935251681497,\n",
              " 0.0023646837194109924,\n",
              " 0.0007881988522022277,\n",
              " 0.0013953950363362344,\n",
              " 0.000846987045603882,\n",
              " 0.0010766196618209576,\n",
              " 0.0013954290563377482,\n",
              " 0.0021532932980007327,\n",
              " 0.0013954293918956504,\n",
              " 0.0029087365587866453,\n",
              " 0.002364611997079213,\n",
              " 0.001576412765864535,\n",
              " 0.0010767073666841714,\n",
              " 0.0015764130015760238,\n",
              " 0.0026166251475103863,\n",
              " 0.0018389450574535695,\n",
              " 0.0013954308646034483,\n",
              " 0.0029086573217089106,\n",
              " 0.0029087384842903016,\n",
              " 0.001838945761333191,\n",
              " 0.0018389459124172323,\n",
              " 0.001838883062137587,\n",
              " 0.0036778925784876435,\n",
              " 0.0010766208325807647,\n",
              " 0.03230536803586998,\n",
              " 0.002616698815645631,\n",
              " 0.0025001727850079355,\n",
              " 0.0043066842130877895,\n",
              " 0.005057121652390101,\n",
              " 0.03433480614761056,\n",
              " 0.011071948946398215,\n",
              " 0.0028676246919377727,\n",
              " 0.002867624880400336,\n",
              " 0.0028676250649783087,\n",
              " 0.005735308645491359,\n",
              " 0.0028676256268364785,\n",
              " 0.002500130404369994,\n",
              " 0.00573531007707279,\n",
              " 0.006072122773575451,\n",
              " 0.002626288878594304,\n",
              " 0.0032301065769521613,\n",
              " 0.0026262669100974552,\n",
              " 0.005722421750650748,\n",
              " 0.002626396480212202,\n",
              " 0.0028675874042976635,\n",
              " 0.002867627992255351,\n",
              " 0.0025001331588828707,\n",
              " 0.002867726688704362,\n",
              " 0.0028676285236449352,\n",
              " 0.0025000874321478186,\n",
              " 0.0028677272183273506,\n",
              " 0.00536363587687423,\n",
              " 0.004680764149919753,\n",
              " 0.0029087636605041206,\n",
              " 0.002626289615805454,\n",
              " 0.0025000889902374174,\n",
              " 0.004680802382423275,\n",
              " 0.0025001835443490585,\n",
              " 0.0029087448150409458,\n",
              " 0.0050671066069849285,\n",
              " 0.004680766568999628,\n",
              " 0.0021533994245159405,\n",
              " 0.0025000908024474266,\n",
              " 0.0018196753668847032,\n",
              " 0.00464714140333351,\n",
              " 0.002219289273887598,\n",
              " 0.0021534005743098646,\n",
              " 0.0025000917802477894,\n",
              " 0.001819675686901233,\n",
              " 0.002153401127887679,\n",
              " 0.002153260173159942,\n",
              " 0.0018196758301898797,\n",
              " 0.0021534016384733385,\n",
              " 0.018572328272990175,\n",
              " 0.0015764435715949277,\n",
              " 0.0032487914054508673,\n",
              " 0.007874215838188958,\n",
              " 0.0032301234266786496,\n",
              " 0.001433797429535894,\n",
              " 0.0032300904877923925,\n",
              " 0.0014337975694702538,\n",
              " 0.0010766320026081527,\n",
              " 0.0018196768792828907,\n",
              " 0.0013954681419882547,\n",
              " 0.0014337977253461919,\n",
              " 0.002500142250825282,\n",
              " 0.001576506574223948,\n",
              " 0.002153352088502077,\n",
              " 0.001433838347656157,\n",
              " 0.0035727396799662033,\n",
              " 0.0015764478829562395,\n",
              " 0.0008468756986446225,\n",
              " 0.0021533528531468282,\n",
              " 0.002616739139760429,\n",
              " 0.0008468756929125615,\n",
              " 0.0010767202795289425,\n",
              " 0.0010766330021101265,\n",
              " 0.0021534072549304326,\n",
              " 0.0007882911416593341,\n",
              " 0.0008468756862885551,\n",
              " 0.0010766331932718653,\n",
              " 0.000788217793917875,\n",
              " 0.0010767743824983012,\n",
              " 0.0010766332988051029,\n",
              " 0.0007882914370930675,\n",
              " 0.0004233823357656609,\n",
              " 0.0018389131736522043,\n",
              " 0.0018390530140711759,\n",
              " 0.001076687320740956,\n",
              " 0.0008468756753642951,\n",
              " 0.002153354556872358,\n",
              " 0.0007882919085153921,\n",
              " 0.0010766337031532403,\n",
              " 0.0015765105300726539,\n",
              " 0.0004233823318029932,\n",
              " 0.0004234933379990676,\n",
              " 0.0010766338300033794,\n",
              " 0.0007882921740876768,\n",
              " 0.0007882187083153685,\n",
              " 0.00042338232877369266,\n",
              " 0.0007882922622593711,\n",
              " 0.0007882187975457727,\n",
              " 0.0004234933372638341,\n",
              " 0.0004233823280529565,\n",
              " 0.0004234933353101146,\n",
              " 0.0007882189148716816,\n",
              " 0.001076687873611604,\n",
              " 0.0014337991576336933,\n",
              " 0.0010767214911573584,\n",
              " 0.0007882330163432461,\n",
              " 0.00042349333332947117,\n",
              " 0.0012703689881942153,\n",
              " 0.0004234933340212121,\n",
              " 0.0012703689860285557,\n",
              " 0.0010766344059606546,\n",
              " 0.0004234933295801248,\n",
              " 0.0008468756525920729,\n",
              " 0.000846986658513384,\n",
              " 0.0008468756486742785,\n",
              " 0.0008468756493639484,\n",
              " 0.0004234933287503118,\n",
              " 0.00042349332688979094,\n",
              " 0.000846875646860012,\n",
              " 0.0004234933262608728,\n",
              " 0.0010766347470587937,\n",
              " 0.0,\n",
              " 0.0008469866508158674,\n",
              " 0.0012703689683553339,\n",
              " 0.001433840137749595,\n",
              " 0.0004234933234794115,\n",
              " 0.0007881605773481856,\n",
              " 0.000846986645437271,\n",
              " 0.0010766350437530173,\n",
              " 0.0007882938567536622,\n",
              " 0.0007882203892155483,\n",
              " 0.0012703689567089569,\n",
              " 0.0010766351919228258,\n",
              " 0.0010766890447216995,\n",
              " 0.0007882206249266775,\n",
              " 0.001076689109031875,\n",
              " 0.0015764414595911339,\n",
              " 0.0007882942698669135,\n",
              " 0.0010766354065243635,\n",
              " 0.0007882943573315718,\n",
              " 0.0007881612535609964,\n",
              " 0.0010767228114990938,\n",
              " 0.0007882348458451643,\n",
              " 0.0007882210102983465,\n",
              " 0.001076776700220541,\n",
              " 0.0010766356197109755,\n",
              " 0.000788221157133403,\n",
              " 0.0010766894910008032,\n",
              " 0.09791713851598781,\n",
              " 0.0028677449024383608,\n",
              " 0.0021533329603274196,\n",
              " 0.0015764533783811966,\n",
              " 0.010766963232618356,\n",
              " 0.006460177340063783,\n",
              " 0.0014338037343651733,\n",
              " 0.0014338441859145653,\n",
              " 0.008950485154192573,\n",
              " 0.0015763971046594562,\n",
              " 0.003230205060825824,\n",
              " 0.0028676084805058124,\n",
              " 0.0029087869685079184,\n",
              " 0.003230152340391809,\n",
              " 0.001076641383634898,\n",
              " 0.002908728144828294,\n",
              " 0.0018196821508484069,\n",
              " 0.0015765323639249187,\n",
              " 0.0014338046830839172,\n",
              " 0.0010766417247334867,\n",
              " 0.0018389959845987753,\n",
              " 0.0010767829558793191,\n",
              " 0.001819547169322511,\n",
              " 0.0010767292782255075,\n",
              " 0.0018389965388094483,\n",
              " 0.0010766958735161434,\n",
              " 0.0014338050104231131,\n",
              " 0.002908811444407873,\n",
              " 0.0015764745557838833,\n",
              " 0.002500253466923184,\n",
              " 0.001433805244589294,\n",
              " 0.0015764751473586467,\n",
              " 0.0014338053228804609,\n",
              " 0.0025002539386055614,\n",
              " 0.0018389981961354893,\n",
              " 0.0025001602213884835,\n",
              " 0.001076730192454255,\n",
              " 0.0010766429136313317,\n",
              " 0.0025002545550958616,\n",
              " 0.0015764767411488869,\n",
              " 0.0026167112067609754,\n",
              " 0.0012703686408857251,\n",
              " 0.0014338462572919398,\n",
              " 0.0015764039505350655,\n",
              " 0.0010767844862247197,\n",
              " 0.0010766434050200682,\n",
              " 0.001076784573267832,\n",
              " 0.0010766434906480328,\n",
              " 0.0010766435311651773,\n",
              " 0.002616779380698708,\n",
              " 0.0012703686227865513,\n",
              " 0.002616713517974313,\n",
              " 0.0010766438079535111,\n",
              " 0.0007882325173891906,\n",
              " 0.0014338467093293608,\n",
              " 0.001839001112613727,\n",
              " 0.0021533753630333693,\n",
              " 0.0008468754017269052,\n",
              " 0.0010767852529893391,\n",
              " 0.001076644170371218,\n",
              " 0.002616715351369899,\n",
              " 0.00042349320242060485,\n",
              " 0.0010766981286983322,\n",
              " 0.001076731681931832,\n",
              " 0.001576480460932788,\n",
              " 0.0010766444457474442,\n",
              " 0.0008469863995544328,\n",
              " 0.0004233821912380585,\n",
              " 0.0007883069881945423,\n",
              " 0.0010767318940576205,\n",
              " 0.0007882474468535175,\n",
              " 0.0018389397643524526,\n",
              " 0.000788307194751599,\n",
              " 0.001076644723595905,\n",
              " 0.0007883072825691788,\n",
              " 0.0004234931967651739,\n",
              " 0.0007881742079658082,\n",
              " 0.0013955080932277488,\n",
              " 0.0010767321701389157,\n",
              " 0.0007882478304574987,\n",
              " 0.0004234931937393251,\n",
              " 0.0007882340212402427,\n",
              " 0.0013954748129464398,\n",
              " 0.0,\n",
              " 0.0004234931927548714,\n",
              " 0.0006648056133089876,\n",
              " 0.0007883076085713107,\n",
              " 0.0007881745041068523,\n",
              " 0.0007882341680742588,\n",
              " 0.0006648928610201148,\n",
              " 0.0004234931927383028,\n",
              " 0.0006648057539424773,\n",
              " 0.0006648057551808383,\n",
              " 0.0006648928961853957,\n",
              " 0.0013955088955278586,\n",
              " 0.0,\n",
              " 0.0006648057891031465,\n",
              " 0.0006648057903415079,\n",
              " 0.000664892931350674,\n",
              " 0.0007882342270909132,\n",
              " 0.0013296986501278717,\n",
              " 0.0,\n",
              " 0.0006648057551808383,\n",
              " 0.0007883076967416177,\n",
              " 0.0006648057187818051,\n",
              " 0.0013955087618702754,\n",
              " 0.0004233821852305439,\n",
              " 0.0,\n",
              " 0.0007882341094110747,\n",
              " 0.0007883075769434814,\n",
              " 0.0006648055781483038,\n",
              " 0.0006648927203681792,\n",
              " 0.0004233821876274745,\n",
              " 0.0007882340223006187,\n",
              " 0.0004234931937393251,\n",
              " 0.0007881743267055318,\n",
              " 0.0013955082268852204,\n",
              " 0.0007883074020141099,\n",
              " 0.0010766448071038628,\n",
              " 0.0004234931967651739,\n",
              " 0.0007882337848226726,\n",
              " 0.0007882476239009649,\n",
              " 0.0020389672302877663,\n",
              " 0.0014338068777483123,\n",
              " 0.001576481049679481,\n",
              " 0.0007882335484054263,\n",
              " 0.0018390025217863383,\n",
              " 0.0006648919819608717,\n",
              " 0.0007882334300193199,\n",
              " 0.0010766444702458129,\n",
              " 0.0007883068392412737,\n",
              " 0.0007882333151665756,\n",
              " 0.0007882471507113542,\n",
              " 0.001076731681931832,\n",
              " 0.0007882331943089173,\n",
              " 0.0015764801630250894,\n",
              " 0.0004234932032193517,\n",
              " 0.0007882469448621626,\n",
              " 0.0023647129150654047,\n",
              " 0.0007882329593040148,\n",
              " 0.002153429337379268,\n",
              " 0.0013955056838561453,\n",
              " 0.0010766440225552913,\n",
              " 0.0010766977904269834,\n",
              " 0.0023647713997707116,\n",
              " 0.0018390009121099522,\n",
              " 0.0010766438086612592,\n",
              " 0.001576478688680213,\n",
              " 0.0007882323694940405,\n",
              " 0.002153428488521295,\n",
              " 0.0015764782745077187,\n",
              " 0.0015764642963698979,\n",
              " 0.0008468754153553063,\n",
              " 0.0013955039441862322,\n",
              " 0.00183899995830964,\n",
              " 0.0007882319265204317,\n",
              " 0.0014338463334607875,\n",
              " 0.0015764774496952669,\n",
              " 0.0010766432771081112,\n",
              " 0.0015765368487971581,\n",
              " 0.0010766431918345387,\n",
              " 0.0039823344045863745,\n",
              " 0.0026167106496604625,\n",
              " 0.0018389986490336618,\n",
              " 0.000846875433272225,\n",
              " 0.0018389983980525591,\n",
              " 0.0026167096912012642,\n",
              " 0.0025002539386055614,\n",
              " 0.0018389347891870779,\n",
              " 0.0014338456812590904,\n",
              " 0.0010766424257779219,\n",
              " 0.0033993369017910843,\n",
              " 0.0014338051188280323,\n",
              " 0.0014338050738329452,\n",
              " 0.001576474202393089,\n",
              " 0.00143384540138934,\n",
              " 0.001433903302641115,\n",
              " 0.0010766419809117552,\n",
              " 0.0021534249556356792,\n",
              " 0.0018389961374503268,\n",
              " 0.0012703686968829136,\n",
              " 0.0018389958342234362,\n",
              " 0.0014338046667925649,\n",
              " 0.0025002521271077468,\n",
              " 0.0021533367469177772,\n",
              " 0.004301552061823223,\n",
              " 0.0015764716060364238,\n",
              " 0.0018196500879571126,\n",
              " 0.003230064255700199,\n",
              " 0.0026262940211313197,\n",
              " 0.0018389937236428801,\n",
              " 0.0014338040152937536,\n",
              " 0.0018196498281472745,\n",
              " 0.0028676481689739216,\n",
              " 0.0014338442177974343,\n",
              " 0.0014339021204627092,\n",
              " 0.0018195463064498874,\n",
              " 0.001270368756104084,\n",
              " 0.0015765284685065218,\n",
              " 0.0018196495327802837,\n",
              " 0.0014338439223405427,\n",
              " 0.001819649449340813,\n",
              " 0.001270368769717988,\n",
              " 0.00143384376575863,\n",
              " 0.0014338033135006866,\n",
              " 0.002867646893975998,\n",
              " 0.001819649225440222,\n",
              " 0.002626293532292875,\n",
              " 0.0014338030191029937,\n",
              " 0.00143380297128178,\n",
              " 0.0014338433307192627,\n",
              " 0.0028676461135367123,\n",
              " 0.002626378712573505,\n",
              " 0.001433802691412034,\n",
              " 0.0014338430501466108,\n",
              " 0.001433802597887639,\n",
              " 0.002626293270931734,\n",
              " 0.0010766386398915252,\n",
              " 0.0014339007809950099,\n",
              " 0.0014338427865710646,\n",
              " 0.0014338023332497738,\n",
              " 0.0010766922137777576,\n",
              " 0.0012703688304759003,\n",
              " 0.0010767256199038942,\n",
              " 0.0018195451355334734,\n",
              " 0.0010767792950856952,\n",
              " 0.0014338020845578818,\n",
              " 0.0010766918733867243,\n",
              " 0.0022192667915440535,\n",
              " 0.0014338019286818774,\n",
              " 0.0025001517438163843,\n",
              " 0.0007882240777257872,\n",
              " 0.0014338421935366416,\n",
              " 0.0035727532542117343,\n",
              " 0.0025001511642347577,\n",
              " 0.0008469865832475514,\n",
              " 0.001838985528067349,\n",
              " 0.001076637298583073,\n",
              " 0.0021534155948728082,\n",
              " 0.0014338013848842661,\n",
              " 0.0010767782323345143,\n",
              " 0.0010766370640781437,\n",
              " 0.0014338012750643747,\n",
              " 0.0007882964840317367,\n",
              " 0.001433801212008101,\n",
              " 0.0007882963652934312,\n",
              " 0.0014338011510728371,\n",
              " 0.0010766367876433064,\n",
              " 0.001076690555873109,\n",
              " 0.0010767240217135529,\n",
              " 0.00215341440314996,\n",
              " 0.001576458740867899,\n",
              " 0.0014338009176116423,\n",
              " 0.0014338412742263098,\n",
              " 0.0007882222215426106,\n",
              " 0.0015764582093703394,\n",
              " 0.0035727497023781856,\n",
              " 0.0013954809897360402,\n",
              " 0.0010766361715220999,\n",
              " 0.000846986616931607,\n",
              " 0.0018389825120459105,\n",
              " 0.0010766360222900261,\n",
              " 0.0013954803214480292,\n",
              " 0.0008468756138835752,\n",
              " 0.0007882215403847162,\n",
              " 0.0010766897031268907,\n",
              " 0.0007882214518600607,\n",
              " 0.0007882949193976104,\n",
              " 0.0010766358112246552,\n",
              " 0.0004234933128161076,\n",
              " 0.0007882213050250584,\n",
              " 0.0010766895329300352,\n",
              " 0.0018389815575381582,\n",
              " 0.0006647901787101712,\n",
              " 0.0014338002484084842,\n",
              " 0.0010767766785480606,\n",
              " 0.0006647900041477779,\n",
              " 0.0007882348458451643,\n",
              " 0.0018389180976317078,\n",
              " 0.00042349331711774216,\n",
              " 0.0007882943292364991,\n",
              " 0.0007881611668032143,\n",
              " 0.0010767764880932815,\n",
              " 0.0007882207130978494,\n",
              " 0.0006647896513169904,\n",
              " 0.0004233823117342217,\n",
              " 0.00042349331952848,\n",
              " 0.0007882941223252458,\n",
              " 0.00042338231271660427,\n",
              " 0.0007882205662633468,\n",
              " 0.0,\n",
              " 0.0006648766156344155,\n",
              " 0.00042349331990058415,\n",
              " 0.0006647894403632183,\n",
              " 0.00042338231228581947,\n",
              " 0.0007882204795071364,\n",
              " 0.0004234933205267408,\n",
              " 0.0004233823150382856,\n",
              " 0.0006648764398195688,\n",
              " 0.00042349332106660255,\n",
              " 0.0006647892645713992,\n",
              " 0.0,\n",
              " 0.0007882938567536622,\n",
              " 0.0004234933223099412,\n",
              " 0.0006647891942472777,\n",
              " 0.00042338231505416394,\n",
              " 0.0006647891603327594,\n",
              " 0.00042349332214218374,\n",
              " 0.0004234933232950854,\n",
              " 0.0,\n",
              " 0.0,\n",
              " 0.0,\n",
              " 0.0004233823156817014,\n",
              " 0.0007882936789992438,\n",
              " 0.0,\n",
              " 0.0004234933232184554,\n",
              " 0.0007881604877632184,\n",
              " 0.0007882200962547219,\n",
              " 0.0,\n",
              " 0.001076775977506617,\n",
              " 0.00042338231774104596,\n",
              " 0.0018196465435429423,\n",
              " 0.0010766885121084137,\n",
              " 0.00042349332679935385,\n",
              " 0.00042349332688979094,\n",
              " 0.0008468756484733837,\n",
              " 0.0004234933296408764,\n",
              " 0.00042349332796675287,\n",
              " 0.00042338232070752383,\n",
              " 0.000846986658513384,\n",
              " 0.0004233823216912871,\n",
              " 0.00042349333054731943,\n",
              " 0.0004234933295801248,\n",
              " 0.00042338232408614673,\n",
              " 0.00042349333047137985,\n",
              " 0.0008469866622806796,\n",
              " 0.0004233823237478702,\n",
              " 0.0008469866656606832,\n",
              " 0.001270368989530753,\n",
              " 0.0006648749629276891,\n",
              " 0.0008468756592312671,\n",
              " 0.00042349333360423445,\n",
              " 0.0014337991565723915,\n",
              " 0.0014338395160146886,\n",
              " 0.0008468756633630731,\n",
              " 0.0007882188263470272,\n",
              " 0.000846986673034421,\n",
              " 0.0014337989868768752,\n",
              " 0.0008468756683737073,\n",
              " 0.0010766875964687203,\n",
              " 0.00042349333924447755,\n",
              " 0.0008468756710612796,\n",
              " 0.0010767210025956712,\n",
              " 0.0004234933400597929,\n",
              " 0.0014337987845915356,\n",
              " 0.0008468756753642951,\n",
              " 0.001076687320740956,\n",
              " 0.0010767207897633161,\n",
              " 0.0008468756796507415,\n",
              " 0.0018196776016902144,\n",
              " 0.0012703690274253154,\n",
              " 0.0018196456824405508,\n",
              " 0.0014337984427258141,\n",
              " 0.0008468756875498434,\n",
              " 0.0014339371202714026,\n",
              " 0.0018195422054362576,\n",
              " 0.0022192906769720236,\n",
              " 0.0010766327892770594,\n",
              " 0.001270369050167162,\n",
              " 0.0010767200030929035,\n",
              " 0.0022191846556182176,\n",
              " 0.0014337979903348787,\n",
              " 0.002219290491604755,\n",
              " 0.001270369063628496,\n",
              " 0.001433797819577782,\n",
              " 0.0010766322349931737,\n",
              " 0.0012703690707896024,\n",
              " 0.002500236006022229,\n",
              " 0.0008468757169150056,\n",
              " 0.0014338379887891962,\n",
              " 0.0012703690828667644,\n",
              " 0.0022192641195853528,\n",
              " 0.001433797415714142,\n",
              " 0.0022192901505080583,\n",
              " 0.001076631575528238,\n",
              " 0.0012703690966808722,\n",
              " 0.0010766852790979335,\n",
              " 0.0038687622861683438,\n",
              " 0.0008468757357528651,\n",
              " 0.0014337970114996373,\n",
              " 0.0008469867461504714,\n",
              " 0.002626290635626176,\n",
              " 0.001270369120054398,\n",
              " 0.0010766308954514208,\n",
              " 0.0012703691228489764,\n",
              " 0.002219289763068112,\n",
              " 0.0026262684392996645,\n",
              " 0.0008468757543767125,\n",
              " 0.0012703691354045577,\n",
              " 0.0008469867647757002,\n",
              " 0.0016938625240063504,\n",
              " 0.0022191575467123987,\n",
              " 0.0008469867703358612,\n",
              " 0.0026262903220892206,\n",
              " 0.0012703691556258988,\n",
              " 0.0010766299801630386,\n",
              " 0.0012703691584225482,\n",
              " 0.0026262902219807353,\n",
              " 0.002117355951057763,\n",
              " 0.0021172449495395693,\n",
              " 0.0018196436268356631,\n",
              " 0.0021173559702352793,\n",
              " 0.002540738366386777,\n",
              " 0.0012703691879713463,\n",
              " 0.001270369190217088,\n",
              " 0.0008469867995498346,\n",
              " 0.0012703691947782982,\n",
              " 0.0012703691949032532,\n",
              " 0.0008468757975546022,\n",
              " 0.0016938626039279723,\n",
              " 0.0008468758000757976,\n",
              " 0.0012703692053677334,\n",
              " 0.0012703692093773457,\n",
              " 0.0012704802175651094,\n",
              " 0.000846875805285256,\n",
              " 0.0026262676952414883,\n",
              " 0.0012703692206709485,\n",
              " 0.001270369222914619,\n",
              " 0.0010767693807513011,\n",
              " 0.0025407384550808062,\n",
              " 0.0026262675498043954,\n",
              " 0.0012703692364532736,\n",
              " 0.0010767152166498693,\n",
              " 0.0016937516492603842,\n",
              " 0.0022192884551420844,\n",
              " 0.0008468758289328548,\n",
              " 0.0012703692497137125,\n",
              " 0.0012703692508976802,\n",
              " 0.001270369255260757,\n",
              " 0.000846986843269657,\n",
              " 0.00127036925841018,\n",
              " 0.0012703692613628506,\n",
              " 0.0008468758395050312,\n",
              " 0.0014338924554498332,\n",
              " 0.001270369267461493,\n",
              " 0.0012703692711197115,\n",
              " 0.0010766808288033291,\n",
              " 0.0012703692739170515,\n",
              " 0.0012703692779259734,\n",
              " 0.0022192619542129276,\n",
              " 0.0016938627150269521,\n",
              " 0.0008468758559770262,\n",
              " 0.0012703692885147183,\n",
              " 0.0026262670242565107,\n",
              " 0.002117356167172268,\n",
              " 0.0012703693001610953,\n",
              " 0.0010766800630999216,\n",
              " 0.00127036930578546,\n",
              " 0.002540849624250218,\n",
              " 0.0008468758714045058,\n",
              " 0.001819641651842064,\n",
              " 0.0008468758749854044,\n",
              " 0.0018196734197211207,\n",
              " 0.0008468758775052191,\n",
              " 0.0014337930086802512,\n",
              " 0.0012703693264079004,\n",
              " 0.001433891270447026,\n",
              " 0.0014338332721264262,\n",
              " 0.0014337928216286472,\n",
              " 0.0012703693357346668,\n",
              " 0.0008468758900290438,\n",
              " 0.0018196731095578473,\n",
              " 0.0008468758929009425,\n",
              " 0.0014337926051687243,\n",
              " 0.0012704803543917434,\n",
              " 0.0010766250444852,\n",
              " 0.0012703693515915507,\n",
              " 0.0014338328377967928,\n",
              " 0.0022192610967674215,\n",
              " 0.0025407387242370677,\n",
              " 0.001433832618863364,\n",
              " 0.0012703693684349595,\n",
              " 0.0014337921219572738,\n",
              " 0.0026262663032124477,\n",
              " 0.0014338323836382604,\n",
              " 0.001076711579646056,\n",
              " 0.0012703693830326264,\n",
              " 0.0022191809795355324,\n",
              " 0.002867681866592499,\n",
              " 0.0022191808785025384,\n",
              " 0.0010766238118891933,\n",
              " 0.0016938628695060969,\n",
              " 0.001076764805377168,\n",
              " 0.002500081201201811,\n",
              " 0.0018196721305175276,\n",
              " 0.0010766234487650118,\n",
              " 0.0014338317147852384,\n",
              " 0.0008469869490072994,\n",
              " 0.0016938628942306578,\n",
              " 0.0010766232153211557,\n",
              " 0.00898019462392313,\n",
              " 0.0025002200638276225,\n",
              " 0.0010766226624486406,\n",
              " 0.0012703694454805408,\n",
              " 0.0025002197018115556,\n",
              " 0.0014338310133472536,\n",
              " 0.002500079065652385,\n",
              " 0.0012703694580368124,\n",
              " 0.0010767633379252116,\n",
              " 0.0014337904090943542,\n",
              " 0.0010766759155066007,\n",
              " 0.0014337903315088376,\n",
              " 0.0010767093244635798,\n",
              " 0.002219180028698076,\n",
              " 0.002908743121203337,\n",
              " 0.002500124317173058,\n",
              " 0.002219259697922895,\n",
              " 0.002500123957275027,\n",
              " 0.001433789863882091,\n",
              " 0.0032300588925231535,\n",
              " 0.0014337897239477516,\n",
              " 0.0014338880335416962,\n",
              " 0.0007882148664013556,\n",
              " 0.0022192594578609075,\n",
              " 0.0010766209832231129,\n",
              " 0.002908799798691474,\n",
              " 0.0008468760065176658,\n",
              " 0.0010766207888830235,\n",
              " 0.0010767080691396556,\n",
              " 0.0010766745105961631,\n",
              " 0.0015764742337287343,\n",
              " 0.0012703695220228494,\n",
              " 0.0018388828108020212,\n",
              " 0.002153382064908003,\n",
              " 0.0010766742114287845,\n",
              " 0.0021533280059824736,\n",
              " 0.0018389451598245757,\n",
              " 0.0014338293798368804,\n",
              " 0.000788199677014687,\n",
              " 0.0008468760249730657,\n",
              " 0.002153381255151808,\n",
              " 0.001395430058770001,\n",
              " 0.0010766199808935801,\n",
              " 0.0008468760298159427,\n",
              " 0.0007881993246844809,\n",
              " 0.0010766736798760552,\n",
              " 0.001076707153497482,\n",
              " 0.0018389440019876094,\n",
              " 0.00042349352158725125,\n",
              " 0.0007881394196892376,\n",
              " 0.0010767608052496855,\n",
              " 0.0007881393311659854,\n",
              " 0.000846987045603882,\n",
              " 0.0007882127407597204,\n",
              " 0.0007881988522022277,\n",
              " 0.0004234935231246834,\n",
              " 0.0007881987917733688,\n",
              " 0.001076673295434986,\n",
              " 0.0015763377379200386,\n",
              " 0.0010767605277552318,\n",
              " 0.0007881389475610917,\n",
              " 0.0,\n",
              " 0.00042349352748776006,\n",
              " 0.0010767604428334357,\n",
              " 0.0004233825200421335,\n",
              " 0.0006647631416580335,\n",
              " 0.0007881984369690786,\n",
              " 0.0,\n",
              " 0.0007882719016927231,\n",
              " 0.0007881387410032999,\n",
              " 0.00042349352884017574,\n",
              " 0.00042349352822713585,\n",
              " 0.00042338252165619587,\n",
              " 0.0,\n",
              " 0.0006648500660821151,\n",
              " 0.0004234935294704746,\n",
              " 0.0006647628955266055,\n",
              " 0.0004234935292102088,\n",
              " 0.0006647628591240462,\n",
              " 0.0010766728932083303,\n",
              " 0.0,\n",
              " 0.0010767063668281293,\n",
              " 0.0,\n",
              " 0.0006648498563162652,\n",
              " 0.0007881384459223072,\n",
              " 0.0,\n",
              " 0.0007881980540703883,\n",
              " 0.0006648497847493956,\n",
              " 0.0,\n",
              " 0.0007881980266828717,\n",
              " 0.003988837088957064,\n",
              " 0.0006647626129924534,\n",
              " 0.0006647626129924534,\n",
              " 0.0007882715184417659,\n",
              " 0.001395426847097848,\n",
              " 0.0007881384459223072,\n",
              " 0.0006647627197144036,\n",
              " 0.0007882716062586143,\n",
              " 0.0007881981425946987,\n",
              " 0.0006648499254157792,\n",
              " 0.0010766190883375725,\n",
              " 0.0007881982325318167,\n",
              " 0.0007882717537991893,\n",
              " 0.0006647629294525989,\n",
              " 0.0010766191729067415,\n",
              " 0.00042349352884017574,\n",
              " 0.0007882122373567144,\n",
              " 0.0007881984092272242,\n",
              " 0.0015764107579022825,\n",
              " 0.001076706643264429,\n",
              " 0.0015764109946732672,\n",
              " 0.0010767605277552318,\n",
              " 0.0007881390360847151,\n",
              " 0.0015764709295299122,\n",
              " 0.0010766195122372045,\n",
              " 0.0021667788050639338,\n",
              " 0.0021532930432375487,\n",
              " 0.002364610935848729,\n",
              " 0.0026166901293088484,\n",
              " 0.0007881992059458249,\n",
              " 0.0026166241122408873,\n",
              " 0.0007882132118289043,\n",
              " 0.001576398792669963,\n",
              " 0.0010766738088485886,\n",
              " 0.0015764725222596173,\n",
              " 0.0018388817560411755,\n",
              " 0.02740668374104127,\n",
              " 0.005516779110957775,\n",
              " 0.0018389476699964705,\n",
              " 0.0018196391237892504,\n",
              " 0.00445372954160629,\n",
              " 0.006132524618483573,\n",
              " 0.01087254269109576,\n",
              " 0.0029086638837733654,\n",
              " 0.0022192861416885246,\n",
              " 0.02261020980058319,\n",
              " 0.0057224985580028535,\n",
              " 0.0025001275795714724,\n",
              " 0.0032300123637867234,\n",
              " 0.002626266120006062,\n",
              " 0.04251518648829989,\n",
              " 0.1742955237386641,\n",
              " 0.001076687000959953,\n",
              " 0.003230128277079845,\n",
              " 0.0018389761280622585,\n",
              " 0.0007881584229040095,\n",
              " 0.0010767745725997588,\n",
              " 0.00042349334221095537,\n",
              " 0.0007881585427030844,\n",
              " 0.000423493342380784,\n",
              " 0.0021534082753982575,\n",
              " 0.0007881587183379738,\n",
              " 0.0007882918786534553,\n",
              " 0.0,\n",
              " 0.0007882184139410437,\n",
              " 0.0004234933402289312,\n",
              " 0.0008468756710612796,\n",
              " 0.0006647870495310003,\n",
              " 0.00042349333924447755,\n",
              " 0.0006648742244890101,\n",
              " 0.0,\n",
              " 0.0004233823318029932,\n",
              " 0.0007882185906363928,\n",
              " 0.0,\n",
              " 0.00042349333826140456,\n",
              " 0.0007882325122322068,\n",
              " 0.0004234933380777687,\n",
              " 0.0,\n",
              " ...]"
            ]
          },
          "metadata": {},
          "execution_count": 115
        }
      ]
    }
  ]
}