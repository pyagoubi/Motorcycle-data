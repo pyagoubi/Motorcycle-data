{
  "nbformat": 4,
  "nbformat_minor": 0,
  "metadata": {
    "colab": {
      "provenance": [],
      "authorship_tag": "ABX9TyNajaiZbevknhI2laGvADyZ",
      "include_colab_link": true
    },
    "kernelspec": {
      "name": "python3",
      "display_name": "Python 3"
    },
    "language_info": {
      "name": "python"
    }
  },
  "cells": [
    {
      "cell_type": "markdown",
      "metadata": {
        "id": "view-in-github",
        "colab_type": "text"
      },
      "source": [
        "<a href=\"https://colab.research.google.com/github/pyagoubi/Motorcycle-data/blob/main/Motorcycle.ipynb\" target=\"_parent\"><img src=\"https://colab.research.google.com/assets/colab-badge.svg\" alt=\"Open In Colab\"/></a>"
      ]
    },
    {
      "cell_type": "code",
      "execution_count": 215,
      "metadata": {
        "colab": {
          "base_uri": "https://localhost:8080/"
        },
        "id": "hfzX3Acd8Ng0",
        "outputId": "10a2d602-ffc3-4ff8-f40d-74caae254a68"
      },
      "outputs": [
        {
          "output_type": "stream",
          "name": "stdout",
          "text": [
            "Drive already mounted at /content/drive; to attempt to forcibly remount, call drive.mount(\"/content/drive\", force_remount=True).\n"
          ]
        }
      ],
      "source": [
        "#Mounting Google Drive\n",
        "from google.colab import drive\n",
        "drive.mount('/content/drive')"
      ]
    },
    {
      "cell_type": "code",
      "source": [
        "import pandas as pd\n",
        "import matplotlib.pyplot as plt\n",
        "import numpy as np\n",
        "import math\n",
        "from sklearn.cluster import KMeans"
      ],
      "metadata": {
        "id": "uUVpUfIG8yIS"
      },
      "execution_count": 281,
      "outputs": []
    },
    {
      "cell_type": "code",
      "source": [
        "data = pd.read_csv('/content/drive/MyDrive/upwork1/DATA1.TXT', sep=',')\n",
        "data['Gx clean'] = data['Gx']-data['Gx Cal']\n",
        "data['Gy clean'] = data['Gy']-data['Gy Cal']"
      ],
      "metadata": {
        "id": "hR0kgp62Jgcf"
      },
      "execution_count": 232,
      "outputs": []
    },
    {
      "cell_type": "code",
      "source": [
        "#Parameters\n",
        "\n",
        "#Step 1\n",
        "shift_p = 10\n",
        "Gy_min = 11\n",
        "\n",
        "#Step 2\n",
        "shift_a = 30\n",
        "degree_min = 50"
      ],
      "metadata": {
        "id": "RyCjROSeKUte"
      },
      "execution_count": 282,
      "outputs": []
    },
    {
      "cell_type": "markdown",
      "source": [
        "#Step 1\n",
        "\n",
        "Determining local Maxima/ Minima based on Longitude/ Latitude Data"
      ],
      "metadata": {
        "id": "oEeO_tX0I7xw"
      }
    },
    {
      "cell_type": "code",
      "source": [
        "#calculate the distance on Longitude/ Latitude plane assuming 2D plane\n",
        "\n",
        "def local_maxmin(df, shift = shift_p):\n",
        "\n",
        "  df['corner'] = 0\n",
        "  \n",
        "  for i in df['SessionID'].unique():\n",
        "\n",
        "    data = df[df['SessionID'] == i]\n",
        "\n",
        "    data['Lat diff'] = data['Latitude'] - data['Latitude'].shift(shift)\n",
        "    data['Lon diff'] = data['Longitude'] - data['Longitude'].shift(shift)\n",
        "\n",
        "    data['Lat mdiff'] = data['Latitude'].shift(-shift) - data['Latitude']\n",
        "    data['Lon mdiff'] = data['Longitude'].shift(-shift) - data['Longitude']\n",
        "\n",
        "    data.loc[((data['Lat mdiff'] > 0) & (data['Lat diff'] < 0))| ((data['Lat mdiff'] < 0) & (data['Lat diff'] > 0)) \n",
        "    | ((data['Lon mdiff'] > 0) & (data['Lon diff'] < 0))\n",
        "    | ((data['Lon mdiff'] < 0) & (data['Lon diff'] >= 0)), 'corner'] = 1 \n",
        "\n",
        "    df.loc[df['SessionID'] == i, 'corner'] = data['corner'] \n",
        "  \n",
        "  plt.scatter(x=data['Longitude'], y=data['Latitude'])\n",
        "  plt.scatter(x=data.loc[data['corner'] == 1, 'Longitude'], y=data.loc[data['corner'] == 1,'Latitude'], color = 'y')\n",
        "\n",
        "  return df\n",
        "\n",
        "\n"
      ],
      "metadata": {
        "id": "Ldw-zLr5XsYe"
      },
      "execution_count": 275,
      "outputs": []
    },
    {
      "cell_type": "code",
      "source": [
        "data = local_maxmin(data, shift = shift_p)"
      ],
      "metadata": {
        "colab": {
          "base_uri": "https://localhost:8080/",
          "height": 289
        },
        "id": "NbwCTA8qSo81",
        "outputId": "9a6d66f8-5d54-478e-e0b8-f22d2049ac32"
      },
      "execution_count": 276,
      "outputs": [
        {
          "output_type": "display_data",
          "data": {
            "text/plain": [
              "<Figure size 432x288 with 1 Axes>"
            ],
            "image/png": "[encoded data removed]"
          },
          "metadata": {
            "needs_background": "light"
          }
        }
      ]
    },
    {
      "cell_type": "code",
      "source": [
        "# #Points on the left can be eliminated by setting Gy-value (absolute) to >11, but then we lose data from the first lap\n",
        "\n",
        "# plt.scatter(x=data['Longitude'], y=data['Latitude'])\n",
        "# plt.scatter(x=data.loc[(data['corner'] == 1) & (data['Gy clean'].abs() >Gy_min), 'Longitude'], y=data.loc[(data['corner'] == 1) \n",
        "# & (data['Gy clean'].abs() >Gy_min),'Latitude'], color = 'y')"
      ],
      "metadata": {
        "id": "1CtsYDbk-O8m"
      },
      "execution_count": 214,
      "outputs": []
    },
    {
      "cell_type": "markdown",
      "source": [
        "#Step 2\n",
        "\n",
        "Determining corners by calculating angles between points\n"
      ],
      "metadata": {
        "id": "FUZFYroYUMf-"
      }
    },
    {
      "cell_type": "code",
      "source": [
        "def angle_corner(df, shift_parameter = shift_a, degree_pm = degree_min):\n",
        "\n",
        "  df['degrees'] = 0\n",
        "  df['corner_a'] = 0\n",
        "\n",
        "  for i in df['SessionID'].unique():\n",
        "    \n",
        "    \n",
        "    data = df[df['SessionID'] == i]\n",
        "\n",
        "    # Convert the points to numpy latitude/longitude radians space\n",
        "\n",
        "    data['Lat converted'] = np.radians(data['Latitude'])\n",
        "    data['Lon converted'] = np.radians(data['Longitude'])\n",
        "\n",
        "    #past reference point\n",
        "    data['Lat before'] = data['Lat converted'].shift(shift_parameter)\n",
        "    data['Lon before'] = data['Lon converted'].shift(shift_parameter)\n",
        "\n",
        "    #future reference point\n",
        "    data['Lat after'] = data['Lat converted'].shift(-shift_parameter)\n",
        "    data['Lon after'] = data['Lon converted'].shift(-shift_parameter)\n",
        "\n",
        "\n",
        "    # Vectors in latitude/longitude space\n",
        "    data['vector prev'] = (np.array(data[['Lat converted', 'Lon converted']]) - np.array(data[['Lat before', 'Lon before']])).tolist()\n",
        "    data['vector past'] = (np.array(data[['Lat converted', 'Lon converted']]) - np.array(data[['Lat after', 'Lon after']])).tolist()\n",
        "\n",
        "\n",
        "    for j in range(len(data)):\n",
        "      if np.isnan(data['vector prev'][j][0]) == False:\n",
        "        data.iloc[j, data.columns.get_loc('degrees')] = np.degrees(math.acos(np.dot(data['vector prev'][j], data['vector past'][j]) / (np.linalg.norm(data['vector prev'][j]) * np.linalg.norm(data['vector past'][j]) +1e-20)))\n",
        "        #print(data.iloc[i, data.columns.get_loc('degrees')])\n",
        "    \n",
        "    data.loc[(data['degrees'] < (180 - degree_pm) )  |  (data['degrees'] > (180 + degree_pm) )    , 'corner_a'] = 1\n",
        "\n",
        "    df.loc[df['SessionID'] == i, 'corner_a'] = data['corner_a']\n",
        "    df.loc[df['SessionID'] == i, 'degrees'] = data['degrees'] \n",
        "\n",
        "\n",
        "  plt.scatter(x=df['Longitude'], y=df['Latitude'])\n",
        "  plt.scatter(x=df.loc[(df['corner_a'] == 1), 'Longitude'], y=df.loc[(df['corner_a'] == 1),'Latitude'], color = 'y')  \n",
        "\n",
        "  return df\n"
      ],
      "metadata": {
        "id": "xDvbrNtgXz-g"
      },
      "execution_count": 271,
      "outputs": []
    },
    {
      "cell_type": "code",
      "source": [
        "data = angle_corner(data, shift_parameter = shift_a, degree_pm = degree_min)"
      ],
      "metadata": {
        "id": "DEL75QMxbaFn",
        "outputId": "135cb25d-b1d2-411c-8350-bbb915229b37",
        "colab": {
          "base_uri": "https://localhost:8080/",
          "height": 289
        }
      },
      "execution_count": 283,
      "outputs": [
        {
          "output_type": "display_data",
          "data": {
            "text/plain": [
              "<Figure size 432x288 with 1 Axes>"
            ],
            "image/png": "[encoded data removed]"
          },
          "metadata": {
            "needs_background": "light"
          }
        }
      ]
    },
    {
      "cell_type": "code",
      "source": [
        "# combined\n",
        "\n",
        "plt.scatter(x=data['Longitude'], y=data['Latitude'])\n",
        "plt.scatter(x=data.loc[(data['corner_a'] == 1), 'Longitude'], y=data.loc[(data['corner_a'] == 1),'Latitude'], color = 'y') \n",
        "plt.scatter(x=data.loc[data['corner'] == 1, 'Longitude'], y=data.loc[data['corner'] == 1,'Latitude'], color = 'r')"
      ],
      "metadata": {
        "id": "THenlr86hepB",
        "outputId": "d8ba4447-a7a3-42b6-b7e9-ec29fd47c103",
        "colab": {
          "base_uri": "https://localhost:8080/",
          "height": 306
        }
      },
      "execution_count": 280,
      "outputs": [
        {
          "output_type": "execute_result",
          "data": {
            "text/plain": [
              "<matplotlib.collections.PathCollection at 0x7f46d5d95520>"
            ]
          },
          "metadata": {},
          "execution_count": 280
        },
        {
          "output_type": "display_data",
          "data": {
            "text/plain": [
              "<Figure size 432x288 with 1 Axes>"
            ],
            "image/png": "[encoded data removed]"
          },
          "metadata": {
            "needs_background": "light"
          }
        }
      ]
    },
    {
      "cell_type": "markdown",
      "source": [
        "# Determine corner centers\n"
      ],
      "metadata": {
        "id": "n0tU29omnQCE"
      }
    },
    {
      "cell_type": "code",
      "source": [
        "def cornercenters(df, clusters):\n",
        "\n",
        "  kmeans = KMeans(n_clusters=6)\n",
        "  kmeans.fit(data.loc[data['corner_a']==1, ['Longitude', 'Latitude']])\n",
        "  centroids  = kmeans.cluster_centers_\n",
        "\n",
        "  x = centroids[:, 0]\n",
        "  y = centroids[:, 1]\n",
        "\n",
        "  plt.scatter(x=df['Longitude'], y=df['Latitude'])\n",
        "  plt.scatter(x=df.loc[(df['corner_a'] == 1), 'Longitude'], y=df.loc[(data['corner_a'] == 1),'Latitude'], color = 'y') \n",
        "  plt.scatter(x=x, y=y, color = 'r')\n",
        "\n",
        "  return centroids"
      ],
      "metadata": {
        "id": "n7AEEJE-nadg"
      },
      "execution_count": 296,
      "outputs": []
    },
    {
      "cell_type": "code",
      "source": [
        "corners = cornercenters(data, clusters=6)"
      ],
      "metadata": {
        "id": "8qLMwxsSrtEt",
        "outputId": "0cf013e4-d6ff-4ea4-d2bf-0e92080f40f0",
        "colab": {
          "base_uri": "https://localhost:8080/",
          "height": 344
        }
      },
      "execution_count": 297,
      "outputs": [
        {
          "output_type": "stream",
          "name": "stderr",
          "text": [
            "/usr/local/lib/python3.8/dist-packages/sklearn/cluster/_kmeans.py:870: FutureWarning: The default value of `n_init` will change from 10 to 'auto' in 1.4. Set the value of `n_init` explicitly to suppress the warning\n",
            "  warnings.warn(\n"
          ]
        },
        {
          "output_type": "display_data",
          "data": {
            "text/plain": [
              "<Figure size 432x288 with 1 Axes>"
            ],
            "image/png": "[encoded data removed]"
          },
          "metadata": {
            "needs_background": "light"
          }
        }
      ]
    }
  ]
}