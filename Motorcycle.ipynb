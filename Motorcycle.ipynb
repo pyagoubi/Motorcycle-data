{
  "nbformat": 4,
  "nbformat_minor": 0,
  "metadata": {
    "colab": {
      "provenance": [],
      "authorship_tag": "ABX9TyPLGWCi7f/K8Ax8E78ts/nf",
      "include_colab_link": true
    },
    "kernelspec": {
      "name": "python3",
      "display_name": "Python 3"
    },
    "language_info": {
      "name": "python"
    }
  },
  "cells": [
    {
      "cell_type": "markdown",
      "metadata": {
        "id": "view-in-github",
        "colab_type": "text"
      },
      "source": [
        "<a href=\"https://colab.research.google.com/github/pyagoubi/Motorcycle-data/blob/main/Motorcycle.ipynb\" target=\"_parent\"><img src=\"https://colab.research.google.com/assets/colab-badge.svg\" alt=\"Open In Colab\"/></a>"
      ]
    },
    {
      "cell_type": "code",
      "execution_count": 110,
      "metadata": {
        "colab": {
          "base_uri": "https://localhost:8080/"
        },
        "id": "hfzX3Acd8Ng0",
        "outputId": "c377c521-54dc-40f0-f01f-b338b2bcb392"
      },
      "outputs": [
        {
          "output_type": "stream",
          "name": "stdout",
          "text": [
            "Drive already mounted at /content/drive; to attempt to forcibly remount, call drive.mount(\"/content/drive\", force_remount=True).\n"
          ]
        }
      ],
      "source": [
        "#Mounting Google Drive\n",
        "from google.colab import drive\n",
        "drive.mount('/content/drive')"
      ]
    },
    {
      "cell_type": "code",
      "source": [
        "%%capture\n",
        "pip install geopandas"
      ],
      "metadata": {
        "id": "eA_HQ1NU0SVo"
      },
      "execution_count": 111,
      "outputs": []
    },
    {
      "cell_type": "code",
      "source": [
        "# Importing librarys and loading data\n",
        "\n",
        "import pandas as pd\n",
        "import matplotlib.pyplot as plt\n",
        "import numpy as np\n",
        "import math\n",
        "from sklearn.cluster import KMeans\n",
        "from sklearn.cluster import DBSCAN\n",
        "from geopy.distance import great_circle\n",
        "from shapely.geometry import MultiPoint\n",
        "import geopandas\n",
        "import geopy.distance\n",
        "import seaborn as sns\n",
        "\n",
        "data = pd.read_csv('/content/drive/MyDrive/upwork1/DATA1.TXT', sep=',')\n",
        "data['Gx clean'] = data['Gx']-data['Gx Cal']\n",
        "data['Gy clean'] = data['Gy']-data['Gy Cal']\n",
        "\n",
        "\n",
        "#Parameters\n",
        "\n",
        "shift_a = 30  # how many steps forward and backwards are used to calculate angles, the closer the curves (back 2 back) the lower should this parameter be\n",
        "degree_min = 50  # minimum angle degree to be considered for a corner\n",
        "min_samples = 50 # for DBSCAN minimum angle-samples in the same area to be considered a true corner\n",
        "cluster_area = 0.02 # for DBSCAN proximity to detect true corners\n",
        "proximity = 20 # proximity around reference point to detect local minima (end of breaking phase)\n"
      ],
      "metadata": {
        "id": "yQhhMlqBhrOp"
      },
      "execution_count": 112,
      "outputs": []
    },
    {
      "cell_type": "markdown",
      "source": [
        "# Identifying Corners"
      ],
      "metadata": {
        "id": "dXYqHnyUcGMP"
      }
    },
    {
      "cell_type": "markdown",
      "source": [
        "Corners are identified by three steps  \n",
        "1. Calculating angles between consecutive timesatmps\n",
        "2. Identifying true corner clusters with DBSCAN\n",
        "3. Calculating corner reference points as centroids of corner points"
      ],
      "metadata": {
        "id": "O1t9wJ5DcJ7T"
      }
    },
    {
      "cell_type": "markdown",
      "source": [
        "## 1 Calculating angles"
      ],
      "metadata": {
        "id": "codibCJVctWN"
      }
    },
    {
      "cell_type": "code",
      "source": [
        "def angle_corner(df, shift_parameter = shift_a, degree_pm = degree_min):\n",
        "\n",
        "  df['degrees'] = 0\n",
        "  df['corner_a'] = 0\n",
        "\n",
        "  for i in df['SessionID'].unique():\n",
        "    \n",
        "    \n",
        "    data = df[df['SessionID'] == i]\n",
        "\n",
        "    # Convert the points to numpy latitude/longitude radians space\n",
        "\n",
        "    data['Lat converted'] = np.radians(data['Latitude'])\n",
        "    data['Lon converted'] = np.radians(data['Longitude'])\n",
        "\n",
        "    #past reference point\n",
        "    data['Lat before'] = data['Lat converted'].shift(shift_parameter)\n",
        "    data['Lon before'] = data['Lon converted'].shift(shift_parameter)\n",
        "\n",
        "    #future reference point\n",
        "    data['Lat after'] = data['Lat converted'].shift(-shift_parameter)\n",
        "    data['Lon after'] = data['Lon converted'].shift(-shift_parameter)\n",
        "\n",
        "\n",
        "    # Vectors in latitude/longitude space\n",
        "    data['vector prev'] = (np.array(data[['Lat converted', 'Lon converted']]) - np.array(data[['Lat before', 'Lon before']])).tolist()\n",
        "    data['vector past'] = (np.array(data[['Lat converted', 'Lon converted']]) - np.array(data[['Lat after', 'Lon after']])).tolist()\n",
        "\n",
        "\n",
        "    for j in range(len(data)):\n",
        "      if np.isnan(data['vector prev'][j][0]) == False:\n",
        "        data.iloc[j, data.columns.get_loc('degrees')] = np.degrees(math.acos(np.dot(data['vector prev'][j], data['vector past'][j]) / (np.linalg.norm(data['vector prev'][j]) * np.linalg.norm(data['vector past'][j]) +1e-20)))\n",
        "        #print(data.iloc[i, data.columns.get_loc('degrees')])\n",
        "    \n",
        "    data.loc[(data['degrees'] < (180 - degree_pm) )  |  (data['degrees'] > (180 + degree_pm) )    , 'corner_a'] = 1\n",
        "\n",
        "    df.loc[df['SessionID'] == i, 'corner_a'] = data['corner_a']\n",
        "    df.loc[df['SessionID'] == i, 'degrees'] = data['degrees'] \n",
        "\n",
        "\n",
        "  plt.scatter(x=df['Longitude'], y=df['Latitude'])\n",
        "  plt.scatter(x=df.loc[(df['corner_a'] == 1), 'Longitude'], y=df.loc[(df['corner_a'] == 1),'Latitude'], color = 'y')  \n",
        "\n",
        "  return df\n",
        "\n",
        "data = angle_corner(data, shift_parameter = shift_a, degree_pm = degree_min)"
      ],
      "metadata": {
        "id": "uUVpUfIG8yIS",
        "colab": {
          "base_uri": "https://localhost:8080/",
          "height": 289
        },
        "outputId": "f6046917-4bc2-416f-fdea-ff7079732394"
      },
      "execution_count": 113,
      "outputs": [
        {
          "output_type": "display_data",
          "data": {
            "text/plain": [
              "<Figure size 432x288 with 1 Axes>"
            ],
            "image/png": "[encoded data removed]"
          },
          "metadata": {
            "needs_background": "light"
          }
        }
      ]
    },
    {
      "cell_type": "markdown",
      "source": [
        "## 2 Identifying true corners with DBSCAN\n"
      ],
      "metadata": {
        "id": "n0tU29omnQCE"
      }
    },
    {
      "cell_type": "code",
      "source": [
        "def true_corners(df, min_samples=min_samples, cluster_area = cluster_area):\n",
        "  \n",
        "  coords = df.loc[df['corner_a']==1, ['Longitude', 'Latitude']]\n",
        "  db = DBSCAN(eps=cluster_area/6371., min_samples=min_samples, algorithm='ball_tree', metric='haversine').fit(np.radians(df.loc[df['corner_a']==1, ['Longitude', 'Latitude']]))\n",
        "\n",
        "  cluster_labels = db.labels_\n",
        "\n",
        "  df['Corner Number'] = -1\n",
        "  num_clusters = len(set(cluster_labels))\n",
        "  clusters = pd.Series([coords[cluster_labels == n] for n in range(num_clusters)])\n",
        "\n",
        "  df.loc[df['corner_a']==1, 'Corner Number'] = cluster_labels\n",
        "\n",
        "  plt.scatter(x=df['Longitude'], y=df['Latitude'])\n",
        "  plt.scatter(x=df.loc[(df['Corner Number'] >= 0), 'Longitude'], y=df.loc[(df['Corner Number'] >= 0),'Latitude'], color = 'y') \n",
        "\n",
        "  return df\n",
        "\n",
        "data = true_corners(data)\n"
      ],
      "metadata": {
        "colab": {
          "base_uri": "https://localhost:8080/",
          "height": 289
        },
        "id": "hYNxAPiQEPBu",
        "outputId": "3bc35c50-2073-4c51-b3f9-baa23a2cc921"
      },
      "execution_count": 114,
      "outputs": [
        {
          "output_type": "display_data",
          "data": {
            "text/plain": [
              "<Figure size 432x288 with 1 Axes>"
            ],
            "image/png": "[encoded data removed]"
          },
          "metadata": {
            "needs_background": "light"
          }
        }
      ]
    },
    {
      "cell_type": "markdown",
      "source": [
        "## 3 Determine Reference points "
      ],
      "metadata": {
        "id": "7Zk5j4LhGC6t"
      }
    },
    {
      "cell_type": "code",
      "source": [
        "def centroids(df):\n",
        "\n",
        "  corners_df = pd.DataFrame()\n",
        "\n",
        "  centroid_x = []\n",
        "  centroid_y = []\n",
        "\n",
        "  corners = df['Corner Number'].unique().tolist()\n",
        "  corners.remove(-1)\n",
        "\n",
        "  for corner in corners:\n",
        "    point = MultiPoint(geopandas.points_from_xy(df.loc[df['Corner Number'] == corner,'Longitude'], df.loc[df['Corner Number'] == corner, 'Latitude'] , crs=\"EPSG:4326\" ))\n",
        "    centroid_x.append(point.centroid.x)\n",
        "    centroid_y.append(point.centroid.y)\n",
        "    del point\n",
        "  \n",
        "  corners_df['Corner Nr'] = corners\n",
        "  corners_df['Longitude'] = centroid_x\n",
        "  corners_df['Latitude'] = centroid_y\n",
        "\n",
        "  plt.scatter(x=df['Longitude'], y=df['Latitude'])\n",
        "  plt.scatter(x=df.loc[(df['Corner Number'] >= 0), 'Longitude'], y=df.loc[(df['Corner Number'] >= 0),'Latitude'], color = 'y') \n",
        "  plt.scatter(x=corners_df['Longitude'], y=corners_df['Latitude'], color = 'r')\n",
        "\n",
        "  return corners_df\n",
        "\n",
        "reference_points = centroids(data)\n",
        "\n"
      ],
      "metadata": {
        "colab": {
          "base_uri": "https://localhost:8080/",
          "height": 289
        },
        "id": "kI0RU-LyGBHh",
        "outputId": "01d86906-f0de-4449-8fba-c3be2bc25ee4"
      },
      "execution_count": 115,
      "outputs": [
        {
          "output_type": "display_data",
          "data": {
            "text/plain": [
              "<Figure size 432x288 with 1 Axes>"
            ],
            "image/png": "[encoded data removed]"
          },
          "metadata": {
            "needs_background": "light"
          }
        }
      ]
    },
    {
      "cell_type": "markdown",
      "source": [
        "# Calculating metrics"
      ],
      "metadata": {
        "id": "xA2l0Yg0c9Xn"
      }
    },
    {
      "cell_type": "markdown",
      "source": [
        "## Determine Breaking Points"
      ],
      "metadata": {
        "id": "2Qf2PJNA39wl"
      }
    },
    {
      "cell_type": "markdown",
      "source": [
        "Breaking points are considered local speed minima within a range of *proximity* meters within a corner reference point. Ths is considered the endpoint of the breaking and starting point of acceleration."
      ],
      "metadata": {
        "id": "8R0tMI5z4Ckm"
      }
    },
    {
      "cell_type": "code",
      "source": [
        "# Calculate distances between reference points and track\n",
        "\n",
        "def distances(df, ref):\n",
        "  distances=[]\n",
        "  corner_no = reference_points['Corner Nr']\n",
        "  coordinates = list(zip(data['Latitude'], data['Longitude']))\n",
        "  \n",
        "  for i in corner_no:\n",
        "    corner_lon = ref.loc[ref['Corner Nr']== i , 'Longitude'].values[0]\n",
        "    corner_lat = ref.loc[ref['Corner Nr']== i , 'Latitude'].values[0]\n",
        "    cent = (corner_lat,corner_lon)\n",
        "    for j in range(len(data)):\n",
        "      dist = geopy.distance.geodesic(cent, coordinates[j]).m   \n",
        "      distances.append(dist)\n",
        "    df[f'Distance from corner {i}'] = distances\n",
        "    distances=[]\n",
        "\n",
        "  return df\n",
        "       "
      ],
      "metadata": {
        "id": "QDZvIO4IuH2T"
      },
      "execution_count": 116,
      "outputs": []
    },
    {
      "cell_type": "code",
      "source": [
        "data = distances(data, reference_points)"
      ],
      "metadata": {
        "id": "qq4WylXozWXk"
      },
      "execution_count": 117,
      "outputs": []
    },
    {
      "cell_type": "code",
      "source": [
        "#All values after passing the closest point to centroid are multiplied by -1\n",
        "def adjust_distance(df, corner_no): \n",
        "  df['most_controid'] = 0\n",
        "  \n",
        "  for j in corner_no:\n",
        "    minids = df.groupby('Lap Number')[f'Distance from corner {j}'].apply(lambda x: x.idxmin())\n",
        "    for i in df['Lap Number'].unique():\n",
        "      df.loc[(df.index <= minids[i])  & (df['Lap Number'] == i) ,f'Distance from corner {j}'] *= -1\n",
        "      df.loc[df.index == minids[i],  'most_controid'] = j\n",
        "  \n",
        "  return df\n",
        "\n"
      ],
      "metadata": {
        "id": "LwkiRHR-zckR"
      },
      "execution_count": 118,
      "outputs": []
    },
    {
      "cell_type": "code",
      "source": [
        "corner_no = reference_points['Corner Nr']\n",
        "data = adjust_distance(data, corner_no)"
      ],
      "metadata": {
        "id": "856VwEjp4vGy"
      },
      "execution_count": 119,
      "outputs": []
    },
    {
      "cell_type": "code",
      "source": [
        "# Plot example\n",
        "\n",
        "\n",
        "f, ax = plt.subplots(1, 1, figsize=(20, 8))\n",
        "\n",
        "sns.lineplot(x='Distance from corner 0', y = 'Speed', data = data[(data['Lap Number']== 1 )  &  (((data['Distance from corner 0'] >-200) &  (data['Distance from corner 0'] <= 0))  | \n",
        "                               ((data['Distance from corner 0'] < 50) &  (data['Distance from corner 0'] > 0))  )]  )\n",
        "sns.lineplot(x='Distance from corner 0', y = 'Speed', data = data[(data['Lap Number']== 2 )  &  (((data['Distance from corner 0'] >-200) &  (data['Distance from corner 0'] <= 0))  | \n",
        "                               ((data['Distance from corner 0'] < 50) &  (data['Distance from corner 0'] > 0))  )]  )\n",
        "\n",
        "\n",
        "plt.axvline(x = 0, color = 'r', ymax=0.6)\n",
        "plt.text(-13,21,'Corner Reference point')\n",
        "\n",
        "ax.legend(labels=[f'Lap Number {i}' for i in range(2)])\n",
        "plt.show\n",
        "\n",
        "\n",
        "\n",
        "#sns.lineplot(x='Distance from corner 1', y = 'Speed', data = data[data['Lap Number']== 1])"
      ],
      "metadata": {
        "colab": {
          "base_uri": "https://localhost:8080/",
          "height": 514
        },
        "id": "Dk-5xIhVheaS",
        "outputId": "e185706b-e507-4052-d524-fd219f23bdba"
      },
      "execution_count": 120,
      "outputs": [
        {
          "output_type": "execute_result",
          "data": {
            "text/plain": [
              "<function matplotlib.pyplot.show(close=None, block=None)>"
            ]
          },
          "metadata": {},
          "execution_count": 120
        },
        {
          "output_type": "display_data",
          "data": {
            "text/plain": [
              "<Figure size 1440x576 with 1 Axes>"
            ],
            "image/png": "[encoded data removed]"
          },
          "metadata": {
            "needs_background": "light"
          }
        }
      ]
    },
    {
      "cell_type": "code",
      "source": [
        "def flag_breaking_points(df, corner_no, proximity):\n",
        "  df['flag breaking point'] = ''\n",
        "\n",
        "  for i in corner_no:\n",
        "    for j in df['Lap Number'].unique():\n",
        "      df.iloc[df.loc[(df['Lap Number'] ==j)  & (df[f'Distance from corner {i}'].abs() < proximity)  , 'Speed'].idxmin(), df.columns.get_loc('flag breaking point')] = i\n",
        "\n",
        "  return df\n",
        "\n",
        "data = flag_breaking_points(data, corner_no, proximity)\n"
      ],
      "metadata": {
        "id": "LZ5XOcG6wGNH"
      },
      "execution_count": 162,
      "outputs": []
    },
    {
      "cell_type": "code",
      "source": [
        "def calculate_metrics(df, corner_no):\n",
        "  b= 5 # shift\n",
        "\n",
        "  metrics = pd.DataFrame(columns=['Index', 'SessionID', 'Lap Number', 'Corner Number', 'Breaking Distance', 'Acceleration'])\n",
        "\n",
        "  for i in corner_no:\n",
        "    for j in df['Lap Number'].unique():\n",
        "      aind = df[ (df['Lap Number'] == j)   &  (df['flag breaking point'] == i)].index\n",
        "\n",
        "      delta_v = df.iloc[ aind + 20, df.columns.get_loc('Speed')].values[0] - df.iloc[ aind, df.columns.get_loc('Speed')].values[0]\n",
        "      delta_t = (df.iloc[aind + 20, df.columns.get_loc('Time')].values[0] - df.iloc[aind, df.columns.get_loc('Time')].values[0])/pd.Timedelta(seconds=1)\n",
        "      acc = delta_v/delta_t\n",
        "\n",
        "      len_df = len(    df[df['Lap Number'] == j].iloc[:aind.values[0] - 12 - 1, :])\n",
        "      for k in range(len_df): \n",
        "        a = df.iloc[ aind - k - b, df.columns.get_loc('Speed')].values[0]\n",
        "        b = df.iloc[ aind - k - b -5, df.columns.get_loc('Speed')].values[0]\n",
        "\n",
        "        if a>b:\n",
        "          breaking_distance = max(0, df.iloc[aind, df.columns.get_loc(f'Distance from corner {i}') ].values[0] - df.iloc[aind - k -b, df.columns.get_loc(f'Distance from corner {i}') ].values[0])\n",
        "          met = [aind.values[0] - k -b, df.iloc[aind - k, df.columns.get_loc(f'SessionID')].values[0], j, i,  breaking_distance, acc ]\n",
        "          metrics.loc[len(metrics)] = met\n",
        "          break\n",
        "\n",
        "  \n",
        "  \n",
        "  \n",
        "  display(metrics)\n",
        "\n",
        "  return metrics\n",
        "\n",
        "data['Time'] =pd.to_datetime(data['Time'])\n",
        "metrics = calculate_metrics(data, corner_no)\n",
        "\n"
      ],
      "metadata": {
        "colab": {
          "base_uri": "https://localhost:8080/",
          "height": 676
        },
        "id": "xqz4yeNDwGJx",
        "outputId": "0bcc13a4-29ed-4968-e04c-6d781c122864"
      },
      "execution_count": 243,
      "outputs": [
        {
          "output_type": "display_data",
          "data": {
            "text/plain": [
              "      Index  SessionID  Lap Number  Corner Number  Breaking Distance  \\\n",
              "0     56.01        0.0         1.0            0.0          54.650665   \n",
              "1    842.95        0.0         2.0            0.0          72.171163   \n",
              "2   1496.84        0.0         3.0            0.0          85.587814   \n",
              "3   2384.05        0.0         4.0            0.0           0.000000   \n",
              "4   3296.59        0.0         5.0            0.0           1.049923   \n",
              "5    284.91        0.0         1.0            1.0          10.006925   \n",
              "6    983.76        0.0         2.0            1.0           6.372961   \n",
              "7   1698.45        0.0         3.0            1.0         198.847671   \n",
              "8   2554.79        0.0         4.0            1.0         206.737408   \n",
              "9   3401.66        0.0         5.0            1.0         276.482118   \n",
              "10   351.61        0.0         1.0            2.0          95.824200   \n",
              "11  1149.98        0.0         2.0            2.0          97.171724   \n",
              "12  1995.84        0.0         3.0            2.0          78.361654   \n",
              "13  2750.96        0.0         4.0            2.0         154.712919   \n",
              "14  3521.07        0.0         5.0            2.0         168.064923   \n",
              "15   530.67        0.0         1.0            3.0         126.546309   \n",
              "16  1259.05        0.0         2.0            3.0         120.863255   \n",
              "17  2173.29        0.0         3.0            3.0         124.385611   \n",
              "18  3057.74        0.0         4.0            3.0          49.841333   \n",
              "19  3828.80        0.0         5.0            3.0           0.000000   \n",
              "\n",
              "    Acceleration  \n",
              "0       2.024324  \n",
              "1       1.294118  \n",
              "2       0.181818  \n",
              "3       1.084000  \n",
              "4       1.984000  \n",
              "5       1.357692  \n",
              "6       1.820000  \n",
              "7       0.333333  \n",
              "8       0.672000  \n",
              "9       1.426923  \n",
              "10      1.791667  \n",
              "11      1.782143  \n",
              "12      0.981250  \n",
              "13      0.742424  \n",
              "14      1.184615  \n",
              "15      1.578571  \n",
              "16      1.600000  \n",
              "17      1.239286  \n",
              "18      0.775000  \n",
              "19      2.404167  "
            ],
            "text/html": [
              "\n",
              "  <div id=\"df-3657f54e-db66-4112-b98c-cbe41d8ffe94\">\n",
              "    <div class=\"colab-df-container\">\n",
              "      <div>\n",
              "<style scoped>\n",
              "    .dataframe tbody tr th:only-of-type {\n",
              "        vertical-align: middle;\n",
              "    }\n",
              "\n",
              "    .dataframe tbody tr th {\n",
              "        vertical-align: top;\n",
              "    }\n",
              "\n",
              "    .dataframe thead th {\n",
              "        text-align: right;\n",
              "    }\n",
              "</style>\n",
              "<table border=\"1\" class=\"dataframe\">\n",
              "  <thead>\n",
              "    <tr style=\"text-align: right;\">\n",
              "      <th></th>\n",
              "      <th>Index</th>\n",
              "      <th>SessionID</th>\n",
              "      <th>Lap Number</th>\n",
              "      <th>Corner Number</th>\n",
              "      <th>Breaking Distance</th>\n",
              "      <th>Acceleration</th>\n",
              "    </tr>\n",
              "  </thead>\n",
              "  <tbody>\n",
              "    <tr>\n",
              "      <th>0</th>\n",
              "      <td>56.01</td>\n",
              "      <td>0.0</td>\n",
              "      <td>1.0</td>\n",
              "      <td>0.0</td>\n",
              "      <td>54.650665</td>\n",
              "      <td>2.024324</td>\n",
              "    </tr>\n",
              "    <tr>\n",
              "      <th>1</th>\n",
              "      <td>842.95</td>\n",
              "      <td>0.0</td>\n",
              "      <td>2.0</td>\n",
              "      <td>0.0</td>\n",
              "      <td>72.171163</td>\n",
              "      <td>1.294118</td>\n",
              "    </tr>\n",
              "    <tr>\n",
              "      <th>2</th>\n",
              "      <td>1496.84</td>\n",
              "      <td>0.0</td>\n",
              "      <td>3.0</td>\n",
              "      <td>0.0</td>\n",
              "      <td>85.587814</td>\n",
              "      <td>0.181818</td>\n",
              "    </tr>\n",
              "    <tr>\n",
              "      <th>3</th>\n",
              "      <td>2384.05</td>\n",
              "      <td>0.0</td>\n",
              "      <td>4.0</td>\n",
              "      <td>0.0</td>\n",
              "      <td>0.000000</td>\n",
              "      <td>1.084000</td>\n",
              "    </tr>\n",
              "    <tr>\n",
              "      <th>4</th>\n",
              "      <td>3296.59</td>\n",
              "      <td>0.0</td>\n",
              "      <td>5.0</td>\n",
              "      <td>0.0</td>\n",
              "      <td>1.049923</td>\n",
              "      <td>1.984000</td>\n",
              "    </tr>\n",
              "    <tr>\n",
              "      <th>5</th>\n",
              "      <td>284.91</td>\n",
              "      <td>0.0</td>\n",
              "      <td>1.0</td>\n",
              "      <td>1.0</td>\n",
              "      <td>10.006925</td>\n",
              "      <td>1.357692</td>\n",
              "    </tr>\n",
              "    <tr>\n",
              "      <th>6</th>\n",
              "      <td>983.76</td>\n",
              "      <td>0.0</td>\n",
              "      <td>2.0</td>\n",
              "      <td>1.0</td>\n",
              "      <td>6.372961</td>\n",
              "      <td>1.820000</td>\n",
              "    </tr>\n",
              "    <tr>\n",
              "      <th>7</th>\n",
              "      <td>1698.45</td>\n",
              "      <td>0.0</td>\n",
              "      <td>3.0</td>\n",
              "      <td>1.0</td>\n",
              "      <td>198.847671</td>\n",
              "      <td>0.333333</td>\n",
              "    </tr>\n",
              "    <tr>\n",
              "      <th>8</th>\n",
              "      <td>2554.79</td>\n",
              "      <td>0.0</td>\n",
              "      <td>4.0</td>\n",
              "      <td>1.0</td>\n",
              "      <td>206.737408</td>\n",
              "      <td>0.672000</td>\n",
              "    </tr>\n",
              "    <tr>\n",
              "      <th>9</th>\n",
              "      <td>3401.66</td>\n",
              "      <td>0.0</td>\n",
              "      <td>5.0</td>\n",
              "      <td>1.0</td>\n",
              "      <td>276.482118</td>\n",
              "      <td>1.426923</td>\n",
              "    </tr>\n",
              "    <tr>\n",
              "      <th>10</th>\n",
              "      <td>351.61</td>\n",
              "      <td>0.0</td>\n",
              "      <td>1.0</td>\n",
              "      <td>2.0</td>\n",
              "      <td>95.824200</td>\n",
              "      <td>1.791667</td>\n",
              "    </tr>\n",
              "    <tr>\n",
              "      <th>11</th>\n",
              "      <td>1149.98</td>\n",
              "      <td>0.0</td>\n",
              "      <td>2.0</td>\n",
              "      <td>2.0</td>\n",
              "      <td>97.171724</td>\n",
              "      <td>1.782143</td>\n",
              "    </tr>\n",
              "    <tr>\n",
              "      <th>12</th>\n",
              "      <td>1995.84</td>\n",
              "      <td>0.0</td>\n",
              "      <td>3.0</td>\n",
              "      <td>2.0</td>\n",
              "      <td>78.361654</td>\n",
              "      <td>0.981250</td>\n",
              "    </tr>\n",
              "    <tr>\n",
              "      <th>13</th>\n",
              "      <td>2750.96</td>\n",
              "      <td>0.0</td>\n",
              "      <td>4.0</td>\n",
              "      <td>2.0</td>\n",
              "      <td>154.712919</td>\n",
              "      <td>0.742424</td>\n",
              "    </tr>\n",
              "    <tr>\n",
              "      <th>14</th>\n",
              "      <td>3521.07</td>\n",
              "      <td>0.0</td>\n",
              "      <td>5.0</td>\n",
              "      <td>2.0</td>\n",
              "      <td>168.064923</td>\n",
              "      <td>1.184615</td>\n",
              "    </tr>\n",
              "    <tr>\n",
              "      <th>15</th>\n",
              "      <td>530.67</td>\n",
              "      <td>0.0</td>\n",
              "      <td>1.0</td>\n",
              "      <td>3.0</td>\n",
              "      <td>126.546309</td>\n",
              "      <td>1.578571</td>\n",
              "    </tr>\n",
              "    <tr>\n",
              "      <th>16</th>\n",
              "      <td>1259.05</td>\n",
              "      <td>0.0</td>\n",
              "      <td>2.0</td>\n",
              "      <td>3.0</td>\n",
              "      <td>120.863255</td>\n",
              "      <td>1.600000</td>\n",
              "    </tr>\n",
              "    <tr>\n",
              "      <th>17</th>\n",
              "      <td>2173.29</td>\n",
              "      <td>0.0</td>\n",
              "      <td>3.0</td>\n",
              "      <td>3.0</td>\n",
              "      <td>124.385611</td>\n",
              "      <td>1.239286</td>\n",
              "    </tr>\n",
              "    <tr>\n",
              "      <th>18</th>\n",
              "      <td>3057.74</td>\n",
              "      <td>0.0</td>\n",
              "      <td>4.0</td>\n",
              "      <td>3.0</td>\n",
              "      <td>49.841333</td>\n",
              "      <td>0.775000</td>\n",
              "    </tr>\n",
              "    <tr>\n",
              "      <th>19</th>\n",
              "      <td>3828.80</td>\n",
              "      <td>0.0</td>\n",
              "      <td>5.0</td>\n",
              "      <td>3.0</td>\n",
              "      <td>0.000000</td>\n",
              "      <td>2.404167</td>\n",
              "    </tr>\n",
              "  </tbody>\n",
              "</table>\n",
              "</div>\n",
              "      <button class=\"colab-df-convert\" onclick=\"convertToInteractive('df-3657f54e-db66-4112-b98c-cbe41d8ffe94')\"\n",
              "              title=\"Convert this dataframe to an interactive table.\"\n",
              "              style=\"display:none;\">\n",
              "        \n",
              "  <svg xmlns=\"http://www.w3.org/2000/svg\" height=\"24px\"viewBox=\"0 0 24 24\"\n",
              "       width=\"24px\">\n",
              "    <path d=\"M0 0h24v24H0V0z\" fill=\"none\"/>\n",
              "    <path d=\"M18.56 5.44l.94 2.06.94-2.06 2.06-.94-2.06-.94-.94-2.06-.94 2.06-2.06.94zm-11 1L8.5 8.5l.94-2.06 2.06-.94-2.06-.94L8.5 2.5l-.94 2.06-2.06.94zm10 10l.94 2.06.94-2.06 2.06-.94-2.06-.94-.94-2.06-.94 2.06-2.06.94z\"/><path d=\"M17.41 7.96l-1.37-1.37c-.4-.4-.92-.59-1.43-.59-.52 0-1.04.2-1.43.59L10.3 9.45l-7.72 7.72c-.78.78-.78 2.05 0 2.83L4 21.41c.39.39.9.59 1.41.59.51 0 1.02-.2 1.41-.59l7.78-7.78 2.81-2.81c.8-.78.8-2.07 0-2.86zM5.41 20L4 18.59l7.72-7.72 1.47 1.35L5.41 20z\"/>\n",
              "  </svg>\n",
              "      </button>\n",
              "      \n",
              "  <style>\n",
              "    .colab-df-container {\n",
              "      display:flex;\n",
              "      flex-wrap:wrap;\n",
              "      gap: 12px;\n",
              "    }\n",
              "\n",
              "    .colab-df-convert {\n",
              "      background-color: #E8F0FE;\n",
              "      border: none;\n",
              "      border-radius: 50%;\n",
              "      cursor: pointer;\n",
              "      display: none;\n",
              "      fill: #1967D2;\n",
              "      height: 32px;\n",
              "      padding: 0 0 0 0;\n",
              "      width: 32px;\n",
              "    }\n",
              "\n",
              "    .colab-df-convert:hover {\n",
              "      background-color: #E2EBFA;\n",
              "      box-shadow: 0px 1px 2px rgba(60, 64, 67, 0.3), 0px 1px 3px 1px rgba(60, 64, 67, 0.15);\n",
              "      fill: #174EA6;\n",
              "    }\n",
              "\n",
              "    [theme=dark] .colab-df-convert {\n",
              "      background-color: #3B4455;\n",
              "      fill: #D2E3FC;\n",
              "    }\n",
              "\n",
              "    [theme=dark] .colab-df-convert:hover {\n",
              "      background-color: #434B5C;\n",
              "      box-shadow: 0px 1px 3px 1px rgba(0, 0, 0, 0.15);\n",
              "      filter: drop-shadow(0px 1px 2px rgba(0, 0, 0, 0.3));\n",
              "      fill: #FFFFFF;\n",
              "    }\n",
              "  </style>\n",
              "\n",
              "      <script>\n",
              "        const buttonEl =\n",
              "          document.querySelector('#df-3657f54e-db66-4112-b98c-cbe41d8ffe94 button.colab-df-convert');\n",
              "        buttonEl.style.display =\n",
              "          google.colab.kernel.accessAllowed ? 'block' : 'none';\n",
              "\n",
              "        async function convertToInteractive(key) {\n",
              "          const element = document.querySelector('#df-3657f54e-db66-4112-b98c-cbe41d8ffe94');\n",
              "          const dataTable =\n",
              "            await google.colab.kernel.invokeFunction('convertToInteractive',\n",
              "                                                     [key], {});\n",
              "          if (!dataTable) return;\n",
              "\n",
              "          const docLinkHtml = 'Like what you see? Visit the ' +\n",
              "            '<a target=\"_blank\" href=https://colab.research.google.com/notebooks/data_table.ipynb>data table notebook</a>'\n",
              "            + ' to learn more about interactive tables.';\n",
              "          element.innerHTML = '';\n",
              "          dataTable['output_type'] = 'display_data';\n",
              "          await google.colab.output.renderOutput(dataTable, element);\n",
              "          const docLink = document.createElement('div');\n",
              "          docLink.innerHTML = docLinkHtml;\n",
              "          element.appendChild(docLink);\n",
              "        }\n",
              "      </script>\n",
              "    </div>\n",
              "  </div>\n",
              "  "
            ]
          },
          "metadata": {}
        }
      ]
    }
  ]
}