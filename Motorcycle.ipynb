{
  "nbformat": 4,
  "nbformat_minor": 0,
  "metadata": {
    "colab": {
      "provenance": [],
      "authorship_tag": "ABX9TyMaQUYPNxJROWVTKUQJIkiO",
      "include_colab_link": true
    },
    "kernelspec": {
      "name": "python3",
      "display_name": "Python 3"
    },
    "language_info": {
      "name": "python"
    }
  },
  "cells": [
    {
      "cell_type": "markdown",
      "metadata": {
        "id": "view-in-github",
        "colab_type": "text"
      },
      "source": [
        "<a href=\"https://colab.research.google.com/github/pyagoubi/Motorcycle-data/blob/main/Motorcycle.ipynb\" target=\"_parent\"><img src=\"https://colab.research.google.com/assets/colab-badge.svg\" alt=\"Open In Colab\"/></a>"
      ]
    },
    {
      "cell_type": "code",
      "execution_count": 1,
      "metadata": {
        "colab": {
          "base_uri": "https://localhost:8080/"
        },
        "id": "hfzX3Acd8Ng0",
        "outputId": "60703c91-ede1-4257-dac8-81e57fca2ba2"
      },
      "outputs": [
        {
          "output_type": "stream",
          "name": "stdout",
          "text": [
            "Mounted at /content/drive\n"
          ]
        }
      ],
      "source": [
        "#Mounting Google Drive\n",
        "from google.colab import drive\n",
        "drive.mount('/content/drive')"
      ]
    },
    {
      "cell_type": "code",
      "source": [
        "import pandas as pd\n",
        "import matplotlib.pyplot as plt\n",
        "import numpy as np\n",
        "import math\n",
        "from sklearn.cluster import KMeans\n",
        "from sklearn.cluster import DBSCAN\n",
        "from geopy.distance import great_circle\n",
        "from shapely.geometry import MultiPoint\n",
        "import geopandas\n",
        "\n",
        "data = pd.read_csv('/content/drive/MyDrive/upwork1/DATA1.TXT', sep=',')\n",
        "data['Gx clean'] = data['Gx']-data['Gx Cal']\n",
        "data['Gy clean'] = data['Gy']-data['Gy Cal']\n",
        "\n",
        "\n",
        "#Parameters\n",
        "\n",
        "shift_a = 30\n",
        "degree_min = 50\n",
        "min_samples = 50\n",
        "\n",
        "\n",
        "def angle_corner(df, shift_parameter = shift_a, degree_pm = degree_min):\n",
        "\n",
        "  df['degrees'] = 0\n",
        "  df['corner_a'] = 0\n",
        "\n",
        "  for i in df['SessionID'].unique():\n",
        "    \n",
        "    \n",
        "    data = df[df['SessionID'] == i]\n",
        "\n",
        "    # Convert the points to numpy latitude/longitude radians space\n",
        "\n",
        "    data['Lat converted'] = np.radians(data['Latitude'])\n",
        "    data['Lon converted'] = np.radians(data['Longitude'])\n",
        "\n",
        "    #past reference point\n",
        "    data['Lat before'] = data['Lat converted'].shift(shift_parameter)\n",
        "    data['Lon before'] = data['Lon converted'].shift(shift_parameter)\n",
        "\n",
        "    #future reference point\n",
        "    data['Lat after'] = data['Lat converted'].shift(-shift_parameter)\n",
        "    data['Lon after'] = data['Lon converted'].shift(-shift_parameter)\n",
        "\n",
        "\n",
        "    # Vectors in latitude/longitude space\n",
        "    data['vector prev'] = (np.array(data[['Lat converted', 'Lon converted']]) - np.array(data[['Lat before', 'Lon before']])).tolist()\n",
        "    data['vector past'] = (np.array(data[['Lat converted', 'Lon converted']]) - np.array(data[['Lat after', 'Lon after']])).tolist()\n",
        "\n",
        "\n",
        "    for j in range(len(data)):\n",
        "      if np.isnan(data['vector prev'][j][0]) == False:\n",
        "        data.iloc[j, data.columns.get_loc('degrees')] = np.degrees(math.acos(np.dot(data['vector prev'][j], data['vector past'][j]) / (np.linalg.norm(data['vector prev'][j]) * np.linalg.norm(data['vector past'][j]) +1e-20)))\n",
        "        #print(data.iloc[i, data.columns.get_loc('degrees')])\n",
        "    \n",
        "    data.loc[(data['degrees'] < (180 - degree_pm) )  |  (data['degrees'] > (180 + degree_pm) )    , 'corner_a'] = 1\n",
        "\n",
        "    df.loc[df['SessionID'] == i, 'corner_a'] = data['corner_a']\n",
        "    df.loc[df['SessionID'] == i, 'degrees'] = data['degrees'] \n",
        "\n",
        "\n",
        "  plt.scatter(x=df['Longitude'], y=df['Latitude'])\n",
        "  plt.scatter(x=df.loc[(df['corner_a'] == 1), 'Longitude'], y=df.loc[(df['corner_a'] == 1),'Latitude'], color = 'y')  \n",
        "\n",
        "  return df\n",
        "\n",
        "data = angle_corner(data, shift_parameter = shift_a, degree_pm = degree_min)"
      ],
      "metadata": {
        "id": "uUVpUfIG8yIS",
        "colab": {
          "base_uri": "https://localhost:8080/",
          "height": 289
        },
        "outputId": "943dc3cc-0d95-413a-ff45-9e14c4b25427"
      },
      "execution_count": 87,
      "outputs": [
        {
          "output_type": "display_data",
          "data": {
            "text/plain": [
              "<Figure size 432x288 with 1 Axes>"
            ],
            "image/png": "[encoded data removed]"
          },
          "metadata": {
            "needs_background": "light"
          }
        }
      ]
    },
    {
      "cell_type": "markdown",
      "source": [
        "# Identifying true corners with DBSCAN\n"
      ],
      "metadata": {
        "id": "n0tU29omnQCE"
      }
    },
    {
      "cell_type": "code",
      "source": [
        "def true_corners(df, min_samples=min_samples):\n",
        "  \n",
        "  coords = df.loc[df['corner_a']==1, ['Longitude', 'Latitude']]\n",
        "  db = DBSCAN(eps=0.02/6371., min_samples=min_samples, algorithm='ball_tree', metric='haversine').fit(np.radians(df.loc[df['corner_a']==1, ['Longitude', 'Latitude']]))\n",
        "\n",
        "  cluster_labels = db.labels_\n",
        "\n",
        "  df['Corner Number'] = -1\n",
        "  num_clusters = len(set(cluster_labels))\n",
        "  clusters = pd.Series([coords[cluster_labels == n] for n in range(num_clusters)])\n",
        "\n",
        "  df.loc[df['corner_a']==1, 'Corner Number'] = cluster_labels\n",
        "\n",
        "  plt.scatter(x=df['Longitude'], y=df['Latitude'])\n",
        "  plt.scatter(x=df.loc[(df['Corner Number'] >= 0), 'Longitude'], y=df.loc[(df['Corner Number'] >= 0),'Latitude'], color = 'y') \n",
        "\n",
        "  return df\n",
        "\n",
        "data = true_corners(data)\n"
      ],
      "metadata": {
        "id": "hYNxAPiQEPBu",
        "outputId": "4e321813-98b7-4d17-8864-aac79c83886d",
        "colab": {
          "base_uri": "https://localhost:8080/",
          "height": 289
        }
      },
      "execution_count": 88,
      "outputs": [
        {
          "output_type": "display_data",
          "data": {
            "text/plain": [
              "<Figure size 432x288 with 1 Axes>"
            ],
            "image/png": "[encoded data removed]"
          },
          "metadata": {
            "needs_background": "light"
          }
        }
      ]
    },
    {
      "cell_type": "markdown",
      "source": [
        "# Determine Reference points "
      ],
      "metadata": {
        "id": "7Zk5j4LhGC6t"
      }
    },
    {
      "cell_type": "code",
      "source": [
        "def centroids(df):\n",
        "\n",
        "  corners_df = pd.DataFrame()\n",
        "\n",
        "  centroid_x = []\n",
        "  centroid_y = []\n",
        "\n",
        "  corners = df['Corner Number'].unique().tolist()\n",
        "  corners.remove(-1)\n",
        "\n",
        "  for corner in corners:\n",
        "    point = MultiPoint(geopandas.points_from_xy(df.loc[df['Corner Number'] == corner,'Longitude'], df.loc[df['Corner Number'] == corner, 'Latitude'] , crs=\"EPSG:4326\" ))\n",
        "    centroid_x.append(point.centroid.x)\n",
        "    centroid_y.append(point.centroid.y)\n",
        "    del point\n",
        "  \n",
        "  corners_df['Corner Nr'] = corners\n",
        "  corners_df['Longitude'] = centroid_x\n",
        "  corners_df['Latitude'] = centroid_y\n",
        "\n",
        "  plt.scatter(x=df['Longitude'], y=df['Latitude'])\n",
        "  plt.scatter(x=df.loc[(df['Corner Number'] >= 0), 'Longitude'], y=df.loc[(df['Corner Number'] >= 0),'Latitude'], color = 'y') \n",
        "  plt.scatter(x=corners_df['Longitude'], y=corners_df['Latitude'], color = 'r')\n",
        "\n",
        "  return corners_df\n",
        "\n",
        "reference_points = centroids(data)\n",
        "\n"
      ],
      "metadata": {
        "id": "kI0RU-LyGBHh",
        "outputId": "3d6da2dc-048a-4083-e442-a068e58bb2ce",
        "colab": {
          "base_uri": "https://localhost:8080/",
          "height": 289
        }
      },
      "execution_count": 99,
      "outputs": [
        {
          "output_type": "display_data",
          "data": {
            "text/plain": [
              "<Figure size 432x288 with 1 Axes>"
            ],
            "image/png": "[encoded data removed]"
          },
          "metadata": {
            "needs_background": "light"
          }
        }
      ]
    },
    {
      "cell_type": "markdown",
      "source": [
        "# Average Breaking Distance"
      ],
      "metadata": {
        "id": "NDMvk-kjbNH_"
      }
    },
    {
      "cell_type": "code",
      "source": [],
      "metadata": {
        "id": "ynCsdCQ8bSgU"
      },
      "execution_count": null,
      "outputs": []
    }
  ]
}