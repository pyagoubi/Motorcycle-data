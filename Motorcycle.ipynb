{
  "nbformat": 4,
  "nbformat_minor": 0,
  "metadata": {
    "colab": {
      "provenance": [],
      "authorship_tag": "ABX9TyN3iRozkZAvKi3rKhaEFMjR",
      "include_colab_link": true
    },
    "kernelspec": {
      "name": "python3",
      "display_name": "Python 3"
    },
    "language_info": {
      "name": "python"
    }
  },
  "cells": [
    {
      "cell_type": "markdown",
      "metadata": {
        "id": "view-in-github",
        "colab_type": "text"
      },
      "source": [
        "<a href=\"https://colab.research.google.com/github/pyagoubi/Motorcycle-data/blob/main/Motorcycle.ipynb\" target=\"_parent\"><img src=\"https://colab.research.google.com/assets/colab-badge.svg\" alt=\"Open In Colab\"/></a>"
      ]
    },
    {
      "cell_type": "code",
      "execution_count": 104,
      "metadata": {
        "colab": {
          "base_uri": "https://localhost:8080/"
        },
        "id": "hfzX3Acd8Ng0",
        "outputId": "25999380-a667-4a8e-fb41-10b821896c23"
      },
      "outputs": [
        {
          "output_type": "stream",
          "name": "stdout",
          "text": [
            "Drive already mounted at /content/drive; to attempt to forcibly remount, call drive.mount(\"/content/drive\", force_remount=True).\n"
          ]
        }
      ],
      "source": [
        "#Mounting Google Drive\n",
        "from google.colab import drive\n",
        "drive.mount('/content/drive')"
      ]
    },
    {
      "cell_type": "code",
      "source": [
        "import pandas as pd\n",
        "import matplotlib.pyplot as plt\n",
        "import numpy as np\n",
        "import math\n"
      ],
      "metadata": {
        "id": "uUVpUfIG8yIS"
      },
      "execution_count": 105,
      "outputs": []
    },
    {
      "cell_type": "code",
      "source": [
        "data = pd.read_csv('/content/drive/MyDrive/upwork1/DATA1.TXT', sep=',')\n",
        "data['Gx clean'] = data['Gx']-data['Gx Cal']\n",
        "data['Gy clean'] = data['Gy']-data['Gy Cal']"
      ],
      "metadata": {
        "id": "hR0kgp62Jgcf"
      },
      "execution_count": 177,
      "outputs": []
    },
    {
      "cell_type": "code",
      "source": [
        "#Parameters\n",
        "\n",
        "#Step 1\n",
        "shift_p = 10\n",
        "Gy_min = 11\n",
        "\n",
        "#Step 2\n",
        "shift_a = 20\n",
        "degree_min = 20"
      ],
      "metadata": {
        "id": "RyCjROSeKUte"
      },
      "execution_count": 185,
      "outputs": []
    },
    {
      "cell_type": "markdown",
      "source": [
        "#Step 1\n",
        "\n",
        "Determining local Maxima/ Minima based on Longitude/ Latitude Data"
      ],
      "metadata": {
        "id": "oEeO_tX0I7xw"
      }
    },
    {
      "cell_type": "code",
      "source": [
        "#calculate the distance on Longitude/ Latitude plane assuming 2D plane\n",
        "\n",
        "def local_maxmin(df, shift = shift_p):\n",
        "  \n",
        "  for i in df['SessionID'].unique():\n",
        "\n",
        "    data = df[df['SessionID'] == i]\n",
        "\n",
        "    data['Lat diff'] = data['Latitude'] - data['Latitude'].shift(shift)\n",
        "    data['Lon diff'] = data['Longitude'] - data['Longitude'].shift(shift)\n",
        "\n",
        "    data['Lat mdiff'] = data['Latitude'].shift(-shift) - data['Latitude']\n",
        "    data['Lon mdiff'] = data['Longitude'].shift(-shift) - data['Longitude']\n",
        "\n",
        "    data.loc[((data['Lat mdiff'] > 0) & (data['Lat diff'] < 0))| ((data['Lat mdiff'] < 0) & (data['Lat diff'] > 0)) \n",
        "    | ((data['Lon mdiff'] > 0) & (data['Lon diff'] < 0))\n",
        "    | ((data['Lon mdiff'] < 0) & (data['Lon diff'] >= 0)), 'corner'] = 1 \n",
        "\n",
        "    df.loc[df['SessionID'] == i, 'corner'] = data['corner'] \n",
        "  \n",
        "  plt.scatter(x=data['Longitude'], y=data['Latitude'])\n",
        "  plt.scatter(x=data.loc[data['corner'] == 1, 'Longitude'], y=data.loc[data['corner'] == 1,'Latitude'], color = 'y')\n",
        "\n",
        "  return df\n",
        "\n",
        "\n"
      ],
      "metadata": {
        "id": "Ldw-zLr5XsYe"
      },
      "execution_count": 183,
      "outputs": []
    },
    {
      "cell_type": "code",
      "source": [
        "data = local_maxmin(data, shift = shift_p)"
      ],
      "metadata": {
        "id": "NbwCTA8qSo81",
        "outputId": "0110ccf1-8e9f-4f11-8d2d-08d0a11b95e3",
        "colab": {
          "base_uri": "https://localhost:8080/",
          "height": 289
        }
      },
      "execution_count": 184,
      "outputs": [
        {
          "output_type": "display_data",
          "data": {
            "text/plain": [
              "<Figure size 432x288 with 1 Axes>"
            ],
            "image/png": "[encoded data removed]"
          },
          "metadata": {
            "needs_background": "light"
          }
        }
      ]
    },
    {
      "cell_type": "code",
      "source": [
        "#Points on the left can be eliminated by setting Gy-value (absolute) to >11, but then we lose data from the first lap\n",
        "\n",
        "plt.scatter(x=data['Longitude'], y=data['Latitude'])\n",
        "plt.scatter(x=data.loc[(data['corner'] == 1) & (data['Gy clean'].abs() >Gy_min), 'Longitude'], y=data.loc[(data['corner'] == 1) \n",
        "& (data['Gy clean'].abs() >Gy_min),'Latitude'], color = 'y')"
      ],
      "metadata": {
        "colab": {
          "base_uri": "https://localhost:8080/",
          "height": 306
        },
        "id": "1CtsYDbk-O8m",
        "outputId": "634fa2c9-8280-43b0-a9ef-b59cc42d8e58"
      },
      "execution_count": 186,
      "outputs": [
        {
          "output_type": "execute_result",
          "data": {
            "text/plain": [
              "<matplotlib.collections.PathCollection at 0x7f46d5cf9f10>"
            ]
          },
          "metadata": {},
          "execution_count": 186
        },
        {
          "output_type": "display_data",
          "data": {
            "text/plain": [
              "<Figure size 432x288 with 1 Axes>"
            ],
            "image/png": "[encoded data removed]"
          },
          "metadata": {
            "needs_background": "light"
          }
        }
      ]
    },
    {
      "cell_type": "markdown",
      "source": [
        "#Step 2\n",
        "\n",
        "Determining corners by calculating angles between points\n"
      ],
      "metadata": {
        "id": "FUZFYroYUMf-"
      }
    },
    {
      "cell_type": "code",
      "source": [
        "shift_parameter = 20\n",
        "\n",
        "def angle_corner(df, shift_parameter = shift_a, degree_pm = degree_min):\n",
        "\n",
        "  for i in df['SessionID'].unique():\n",
        "\n",
        "    data = df[df['SessionID'] == i]\n",
        "\n",
        "    # Convert the points to numpy latitude/longitude radians space\n",
        "\n",
        "    data['Lat converted'] = np.radians(data['Latitude'])\n",
        "    data['Lon converted'] = np.radians(data['Longitude'])\n",
        "\n",
        "    #past reference point\n",
        "    data['Lat before'] = data['Lat converted'].shift(shift_parameter)\n",
        "    data['Lon before'] = data['Lon converted'].shift(shift_parameter)\n",
        "\n",
        "    #future reference point\n",
        "    data['Lat after'] = data['Lat converted'].shift(-shift_parameter)\n",
        "    data['Lon after'] = data['Lon converted'].shift(-shift_parameter)\n",
        "\n",
        "\n",
        "    # Vectors in latitude/longitude space\n",
        "    data['vector prev'] = (np.array(data[['Lat converted', 'Lon converted']]) - np.array(data[['Lat before', 'Lon before']])).tolist()\n",
        "    data['vector past'] = (np.array(data[['Lat converted', 'Lon converted']]) - np.array(data[['Lat after', 'Lon after']])).tolist()\n",
        "\n",
        "\n",
        "\n",
        "\n",
        "    "
      ],
      "metadata": {
        "id": "xDvbrNtgXz-g"
      },
      "execution_count": 108,
      "outputs": []
    },
    {
      "cell_type": "code",
      "source": [
        "np.degrees(math.acos(np.dot(data['vector prev'][30], data['vector past'][30]) / (np.linalg.norm(data['vector prev'][30]) * np.linalg.norm(data['vector past'][30]))))"
      ],
      "metadata": {
        "colab": {
          "base_uri": "https://localhost:8080/"
        },
        "id": "fEs25UPoyLh2",
        "outputId": "a599c7d9-567a-4fcd-9029-3d351dcac0ef"
      },
      "execution_count": 127,
      "outputs": [
        {
          "output_type": "execute_result",
          "data": {
            "text/plain": [
              "179.72609439156923"
            ]
          },
          "metadata": {},
          "execution_count": 127
        }
      ]
    },
    {
      "cell_type": "code",
      "source": [
        "np.degrees(math.acos(np.dot(data['vector prev'][30], data['vector past'][30]) / (np.linalg.norm(data['vector prev'][30]) * np.linalg.norm(data['vector past'][30]))))"
      ],
      "metadata": {
        "colab": {
          "base_uri": "https://localhost:8080/"
        },
        "id": "ySyFsCDl5qLf",
        "outputId": "9653e85a-8eef-45eb-d494-5d471f1e5569"
      },
      "execution_count": 147,
      "outputs": [
        {
          "output_type": "execute_result",
          "data": {
            "text/plain": [
              "179.72609439156923"
            ]
          },
          "metadata": {},
          "execution_count": 147
        }
      ]
    },
    {
      "cell_type": "code",
      "source": [
        "data['degrees'] = 0\n",
        "\n",
        "for i in range(len(data)):\n",
        "  if np.isnan(data['vector prev'][i][0]) == False:\n",
        "    data.iloc[i, data.columns.get_loc('degrees')] = np.degrees(math.acos(np.dot(data['vector prev'][i], data['vector past'][i]) / (np.linalg.norm(data['vector prev'][i]) * np.linalg.norm(data['vector past'][i]) +1e-20)))"
      ],
      "metadata": {
        "id": "RI_fASdJ4gLB"
      },
      "execution_count": 154,
      "outputs": []
    },
    {
      "cell_type": "code",
      "source": [
        "for i in range(len(data)):\n",
        "  print(data.iloc[i, data.columns.get_loc('degrees')])"
      ],
      "metadata": {
        "id": "1DhdUTay7Z4M"
      },
      "execution_count": null,
      "outputs": []
    },
    {
      "cell_type": "code",
      "source": [
        "degree_pm= 40\n",
        "\n",
        "data['c2'] = 0\n",
        "data.loc[(data['degrees'] < (180 - degree_pm) )  |  (data['degrees'] > (180 + degree_pm) )    , 'c2'] = 1"
      ],
      "metadata": {
        "id": "Yr7PaWcr8Sjp"
      },
      "execution_count": 164,
      "outputs": []
    },
    {
      "cell_type": "code",
      "source": [
        "plt.scatter(x=data['Longitude'], y=data['Latitude'])\n",
        "plt.scatter(x=data.loc[(data['c2'] == 1) & (data['Gy clean'].abs() >11), 'Longitude'], y=data.loc[(data['c2'] == 1) \n",
        "& (data['Gy clean'].abs() >11),'Latitude'], color = 'y')"
      ],
      "metadata": {
        "id": "b9RdHm8aGUgi",
        "outputId": "98681abb-ac73-4f9a-feb0-b2617bc0faba",
        "colab": {
          "base_uri": "https://localhost:8080/",
          "height": 306
        }
      },
      "execution_count": 158,
      "outputs": [
        {
          "output_type": "execute_result",
          "data": {
            "text/plain": [
              "<matplotlib.collections.PathCollection at 0x7f46d5ff4a60>"
            ]
          },
          "metadata": {},
          "execution_count": 158
        },
        {
          "output_type": "display_data",
          "data": {
            "text/plain": [
              "<Figure size 432x288 with 1 Axes>"
            ],
            "image/png": "[encoded data removed]"
          },
          "metadata": {
            "needs_background": "light"
          }
        }
      ]
    },
    {
      "cell_type": "code",
      "source": [
        "plt.scatter(x=data['Longitude'], y=data['Latitude'])\n",
        "plt.scatter(x=data.loc[(data['c2'] == 1) , 'Longitude'], y=data.loc[(data['c2'] == 1) ,'Latitude'], color = 'y')"
      ],
      "metadata": {
        "id": "d8k7I02kGhmW",
        "outputId": "96cb3ff3-d82b-4554-f8b9-bba133635ea4",
        "colab": {
          "base_uri": "https://localhost:8080/",
          "height": 306
        }
      },
      "execution_count": 165,
      "outputs": [
        {
          "output_type": "execute_result",
          "data": {
            "text/plain": [
              "<matplotlib.collections.PathCollection at 0x7f46d5e72cd0>"
            ]
          },
          "metadata": {},
          "execution_count": 165
        },
        {
          "output_type": "display_data",
          "data": {
            "text/plain": [
              "<Figure size 432x288 with 1 Axes>"
            ],
            "image/png": "[encoded data removed]"
          },
          "metadata": {
            "needs_background": "light"
          }
        }
      ]
    },
    {
      "cell_type": "code",
      "source": [
        "data['Latitude'].shift(4)"
      ],
      "metadata": {
        "id": "mN4o4zxKPzBx",
        "outputId": "17b104e2-3dcf-490c-a035-50a45fba2b1a",
        "colab": {
          "base_uri": "https://localhost:8080/"
        }
      },
      "execution_count": 172,
      "outputs": [
        {
          "output_type": "execute_result",
          "data": {
            "text/plain": [
              "0             NaN\n",
              "1             NaN\n",
              "2             NaN\n",
              "3             NaN\n",
              "4       38.578903\n",
              "          ...    \n",
              "4197    38.578655\n",
              "4198    38.578655\n",
              "4199    38.578655\n",
              "4200    38.578655\n",
              "4201    38.578651\n",
              "Name: Latitude, Length: 4202, dtype: float64"
            ]
          },
          "metadata": {},
          "execution_count": 172
        }
      ]
    }
  ]
}