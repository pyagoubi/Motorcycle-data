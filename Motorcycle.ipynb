{
  "nbformat": 4,
  "nbformat_minor": 0,
  "metadata": {
    "colab": {
      "provenance": [],
      "authorship_tag": "ABX9TyMdQV/8/PtK8NuzSHrJOsI6",
      "include_colab_link": true
    },
    "kernelspec": {
      "name": "python3",
      "display_name": "Python 3"
    },
    "language_info": {
      "name": "python"
    }
  },
  "cells": [
    {
      "cell_type": "markdown",
      "metadata": {
        "id": "view-in-github",
        "colab_type": "text"
      },
      "source": [
        "<a href=\"https://colab.research.google.com/github/pyagoubi/Motorcycle-data/blob/main/Motorcycle.ipynb\" target=\"_parent\"><img src=\"https://colab.research.google.com/assets/colab-badge.svg\" alt=\"Open In Colab\"/></a>"
      ]
    },
    {
      "cell_type": "code",
      "execution_count": 1,
      "metadata": {
        "colab": {
          "base_uri": "https://localhost:8080/"
        },
        "id": "hfzX3Acd8Ng0",
        "outputId": "02fb5727-0623-45ab-a566-c51f08521633"
      },
      "outputs": [
        {
          "output_type": "stream",
          "name": "stdout",
          "text": [
            "Mounted at /content/drive\n"
          ]
        }
      ],
      "source": [
        "#Mounting Google Drive\n",
        "from google.colab import drive\n",
        "drive.mount('/content/drive')"
      ]
    },
    {
      "cell_type": "code",
      "source": [
        "import pandas as pd\n",
        "import matplotlib.pyplot as plt\n",
        "import numpy as np\n"
      ],
      "metadata": {
        "id": "uUVpUfIG8yIS"
      },
      "execution_count": 49,
      "outputs": []
    },
    {
      "cell_type": "code",
      "source": [
        "data = pd.read_csv('/content/drive/MyDrive/upwork1/DATA1.TXT', sep=',')"
      ],
      "metadata": {
        "id": "f67FWth79F4T"
      },
      "execution_count": 3,
      "outputs": []
    },
    {
      "cell_type": "code",
      "source": [
        "data['Gx clean'] = data['Gx']-data['Gx Cal']\n",
        "data['Gy clean'] = data['Gy']-data['Gy Cal']"
      ],
      "metadata": {
        "id": "k3Q2uAhz9SMY"
      },
      "execution_count": null,
      "outputs": []
    },
    {
      "cell_type": "code",
      "source": [
        "#Display map\n",
        "plt.scatter(x=data['Longitude'], y=data['Latitude'])"
      ],
      "metadata": {
        "colab": {
          "base_uri": "https://localhost:8080/",
          "height": 306
        },
        "id": "0R4kzsPiXGFo",
        "outputId": "a91039ea-f9ba-4d44-8686-94e8395b5f9b"
      },
      "execution_count": 24,
      "outputs": [
        {
          "output_type": "execute_result",
          "data": {
            "text/plain": [
              "<matplotlib.collections.PathCollection at 0x7f93c8f72160>"
            ]
          },
          "metadata": {},
          "execution_count": 24
        },
        {
          "output_type": "display_data",
          "data": {
            "text/plain": [
              "<Figure size 432x288 with 1 Axes>"
            ],
            "image/png": "[encoded data removed]"
          },
          "metadata": {
            "needs_background": "light"
          }
        }
      ]
    },
    {
      "cell_type": "code",
      "source": [
        "#calculate the distance on Longitude/ Latitude plane assuming 2D plane\n",
        "\n",
        "data['Lat diff5'] = data.groupby(['Lap Number']).transform(lambda x: x.diff(5))['Latitude']\n",
        "data['Long diff5'] = data.groupby(['Lap Number']).transform(lambda x: x.diff(5))['Longitude']\n",
        "\n",
        "data[['Lat diff5','Long diff5']].fillna(0, inplace = True)\n",
        "\n",
        "data['Lat diff-5'] = data.groupby(['Lap Number']).transform(lambda x: x.shift(-5) -x )['Latitude']\n",
        "data['Lon diff-5'] = data.groupby(['Lap Number']).transform(lambda x: x.shift(-5) -x )['Longitude']"
      ],
      "metadata": {
        "colab": {
          "base_uri": "https://localhost:8080/"
        },
        "id": "Ldw-zLr5XsYe",
        "outputId": "2e87ec2f-0b73-4832-af47-b3d2bf28a9db"
      },
      "execution_count": 77,
      "outputs": [
        {
          "output_type": "stream",
          "name": "stderr",
          "text": [
            "<ipython-input-77-0f13344311e4>:1: FutureWarning: Dropping invalid columns in DataFrameGroupBy.transform is deprecated. In a future version, a TypeError will be raised. Before calling .transform, select only columns which should be valid for the transforming function.\n",
            "  data['Lat diff5'] = data.groupby(['Lap Number']).transform(lambda x: x.diff(5))['Latitude']\n",
            "<ipython-input-77-0f13344311e4>:2: FutureWarning: Dropping invalid columns in DataFrameGroupBy.transform is deprecated. In a future version, a TypeError will be raised. Before calling .transform, select only columns which should be valid for the transforming function.\n",
            "  data['Long diff5'] = data.groupby(['Lap Number']).transform(lambda x: x.diff(5))['Longitude']\n"
          ]
        }
      ]
    },
    {
      "cell_type": "code",
      "source": [
        "#flag corner rows\n",
        "\n",
        "data['corner'] = 0\n",
        "data.loc[((data['Lat diff-5'] > 0) & (data['Lat diff5'] < 0))| ((data['Lat diff-5'] < 0) & (data['Lat diff5'] > 0)) \n",
        "| ((data['Lon diff-5'] > 0) & (data['Long diff5'] < 0))\n",
        "| ((data['Lon diff-5'] < 0) & (data['Long diff5'] >= 0)), 'corner'] = 1 \n",
        "\n",
        "\n",
        "plt.scatter(x=data['Longitude'], y=data['Latitude'])\n",
        "plt.scatter(x=data.loc[data['corner'] == 1, 'Longitude'], y=data.loc[data['corner'] == 1,'Latitude'], color = 'y')"
      ],
      "metadata": {
        "colab": {
          "base_uri": "https://localhost:8080/",
          "height": 306
        },
        "id": "Jk6nayITyChU",
        "outputId": "75d1c058-ecdb-462a-fa57-9cf4fe809f04"
      },
      "execution_count": 143,
      "outputs": [
        {
          "output_type": "execute_result",
          "data": {
            "text/plain": [
              "<matplotlib.collections.PathCollection at 0x7f36530431f0>"
            ]
          },
          "metadata": {},
          "execution_count": 143
        },
        {
          "output_type": "display_data",
          "data": {
            "text/plain": [
              "<Figure size 432x288 with 1 Axes>"
            ],
            "image/png": "[encoded data removed]"
          },
          "metadata": {
            "needs_background": "light"
          }
        }
      ]
    },
    {
      "cell_type": "code",
      "source": [
        "#check if we got all laps\n",
        "data.loc[data['c']==1, 'Lap Number'].unique()"
      ],
      "metadata": {
        "id": "WzWDOeQE9SGr"
      },
      "execution_count": null,
      "outputs": []
    },
    {
      "cell_type": "code",
      "source": [
        "#Points on the left can be eliminated by setting Gy-value (absolute) to >11, but then we lose data from the first lap\n",
        "\n",
        "plt.scatter(x=data['Longitude'], y=data['Latitude'])\n",
        "plt.scatter(x=data.loc[(data['corner'] == 1) & (data['Gy clean'].abs() >11), 'Longitude'], y=data.loc[(data['corner'] == 1) \n",
        "& (data['Gy clean'].abs() >11),'Latitude'], color = 'y')"
      ],
      "metadata": {
        "colab": {
          "base_uri": "https://localhost:8080/",
          "height": 306
        },
        "id": "1CtsYDbk-O8m",
        "outputId": "20c80bca-f058-4a70-d3bb-db9ef610196a"
      },
      "execution_count": 144,
      "outputs": [
        {
          "output_type": "execute_result",
          "data": {
            "text/plain": [
              "<matplotlib.collections.PathCollection at 0x7f36535a1c70>"
            ]
          },
          "metadata": {},
          "execution_count": 144
        },
        {
          "output_type": "display_data",
          "data": {
            "text/plain": [
              "<Figure size 432x288 with 1 Axes>"
            ],
            "image/png": "[encoded data removed]"
          },
          "metadata": {
            "needs_background": "light"
          }
        }
      ]
    }
  ]
}