{
  "nbformat": 4,
  "nbformat_minor": 0,
  "metadata": {
    "colab": {
      "provenance": [],
      "authorship_tag": "ABX9TyMCnaseZabxSSJT+YM4mhNG",
      "include_colab_link": true
    },
    "kernelspec": {
      "name": "python3",
      "display_name": "Python 3"
    },
    "language_info": {
      "name": "python"
    }
  },
  "cells": [
    {
      "cell_type": "markdown",
      "metadata": {
        "id": "view-in-github",
        "colab_type": "text"
      },
      "source": [
        "<a href=\"https://colab.research.google.com/github/pyagoubi/Motorcycle-data/blob/main/Motorcycle.ipynb\" target=\"_parent\"><img src=\"https://colab.research.google.com/assets/colab-badge.svg\" alt=\"Open In Colab\"/></a>"
      ]
    },
    {
      "cell_type": "code",
      "execution_count": 104,
      "metadata": {
        "colab": {
          "base_uri": "https://localhost:8080/"
        },
        "id": "hfzX3Acd8Ng0",
        "outputId": "25999380-a667-4a8e-fb41-10b821896c23"
      },
      "outputs": [
        {
          "output_type": "stream",
          "name": "stdout",
          "text": [
            "Drive already mounted at /content/drive; to attempt to forcibly remount, call drive.mount(\"/content/drive\", force_remount=True).\n"
          ]
        }
      ],
      "source": [
        "#Mounting Google Drive\n",
        "from google.colab import drive\n",
        "drive.mount('/content/drive')"
      ]
    },
    {
      "cell_type": "code",
      "source": [
        "import pandas as pd\n",
        "import matplotlib.pyplot as plt\n",
        "import numpy as np\n",
        "import math\n"
      ],
      "metadata": {
        "id": "uUVpUfIG8yIS"
      },
      "execution_count": 105,
      "outputs": []
    },
    {
      "cell_type": "code",
      "source": [
        "data = pd.read_csv('/content/drive/MyDrive/upwork1/DATA1.TXT', sep=',')"
      ],
      "metadata": {
        "id": "f67FWth79F4T"
      },
      "execution_count": 106,
      "outputs": []
    },
    {
      "cell_type": "code",
      "source": [
        "data['Gx clean'] = data['Gx']-data['Gx Cal']\n",
        "data['Gy clean'] = data['Gy']-data['Gy Cal']"
      ],
      "metadata": {
        "id": "k3Q2uAhz9SMY"
      },
      "execution_count": 107,
      "outputs": []
    },
    {
      "cell_type": "code",
      "source": [
        "#Display map\n",
        "plt.scatter(x=data['Longitude'], y=data['Latitude'])"
      ],
      "metadata": {
        "colab": {
          "base_uri": "https://localhost:8080/",
          "height": 306
        },
        "id": "0R4kzsPiXGFo",
        "outputId": "a91039ea-f9ba-4d44-8686-94e8395b5f9b"
      },
      "execution_count": null,
      "outputs": [
        {
          "output_type": "execute_result",
          "data": {
            "text/plain": [
              "<matplotlib.collections.PathCollection at 0x7f93c8f72160>"
            ]
          },
          "metadata": {},
          "execution_count": 24
        },
        {
          "output_type": "display_data",
          "data": {
            "text/plain": [
              "<Figure size 432x288 with 1 Axes>"
            ],
            "image/png": "[encoded data removed]"
          },
          "metadata": {
            "needs_background": "light"
          }
        }
      ]
    },
    {
      "cell_type": "code",
      "source": [
        "#calculate the distance on Longitude/ Latitude plane assuming 2D plane\n",
        "\n",
        "data['Lat diff5'] = data.groupby(['Lap Number']).transform(lambda x: x.diff(5))['Latitude']\n",
        "data['Long diff5'] = data.groupby(['Lap Number']).transform(lambda x: x.diff(5))['Longitude']\n",
        "\n",
        "data[['Lat diff5','Long diff5']].fillna(0, inplace = True)\n",
        "\n",
        "data['Lat diff-5'] = data.groupby(['Lap Number']).transform(lambda x: x.shift(-5) -x )['Latitude']\n",
        "data['Lon diff-5'] = data.groupby(['Lap Number']).transform(lambda x: x.shift(-5) -x )['Longitude']"
      ],
      "metadata": {
        "colab": {
          "base_uri": "https://localhost:8080/"
        },
        "id": "Ldw-zLr5XsYe",
        "outputId": "2e87ec2f-0b73-4832-af47-b3d2bf28a9db"
      },
      "execution_count": null,
      "outputs": [
        {
          "output_type": "stream",
          "name": "stderr",
          "text": [
            "<ipython-input-77-0f13344311e4>:1: FutureWarning: Dropping invalid columns in DataFrameGroupBy.transform is deprecated. In a future version, a TypeError will be raised. Before calling .transform, select only columns which should be valid for the transforming function.\n",
            "  data['Lat diff5'] = data.groupby(['Lap Number']).transform(lambda x: x.diff(5))['Latitude']\n",
            "<ipython-input-77-0f13344311e4>:2: FutureWarning: Dropping invalid columns in DataFrameGroupBy.transform is deprecated. In a future version, a TypeError will be raised. Before calling .transform, select only columns which should be valid for the transforming function.\n",
            "  data['Long diff5'] = data.groupby(['Lap Number']).transform(lambda x: x.diff(5))['Longitude']\n"
          ]
        }
      ]
    },
    {
      "cell_type": "code",
      "source": [
        "#flag corner rows\n",
        "\n",
        "data['corner'] = 0\n",
        "data.loc[((data['Lat diff-5'] > 0) & (data['Lat diff5'] < 0))| ((data['Lat diff-5'] < 0) & (data['Lat diff5'] > 0)) \n",
        "| ((data['Lon diff-5'] > 0) & (data['Long diff5'] < 0))\n",
        "| ((data['Lon diff-5'] < 0) & (data['Long diff5'] >= 0)), 'corner'] = 1 \n",
        "\n",
        "\n",
        "plt.scatter(x=data['Longitude'], y=data['Latitude'])\n",
        "plt.scatter(x=data.loc[data['corner'] == 1, 'Longitude'], y=data.loc[data['corner'] == 1,'Latitude'], color = 'y')"
      ],
      "metadata": {
        "colab": {
          "base_uri": "https://localhost:8080/",
          "height": 306
        },
        "id": "Jk6nayITyChU",
        "outputId": "75d1c058-ecdb-462a-fa57-9cf4fe809f04"
      },
      "execution_count": null,
      "outputs": [
        {
          "output_type": "execute_result",
          "data": {
            "text/plain": [
              "<matplotlib.collections.PathCollection at 0x7f36530431f0>"
            ]
          },
          "metadata": {},
          "execution_count": 143
        },
        {
          "output_type": "display_data",
          "data": {
            "text/plain": [
              "<Figure size 432x288 with 1 Axes>"
            ],
            "image/png": "[encoded data removed]"
          },
          "metadata": {
            "needs_background": "light"
          }
        }
      ]
    },
    {
      "cell_type": "code",
      "source": [
        "#check if we got all laps\n",
        "data.loc[data['c']==1, 'Lap Number'].unique()"
      ],
      "metadata": {
        "id": "WzWDOeQE9SGr"
      },
      "execution_count": null,
      "outputs": []
    },
    {
      "cell_type": "code",
      "source": [
        "#Points on the left can be eliminated by setting Gy-value (absolute) to >11, but then we lose data from the first lap\n",
        "\n",
        "plt.scatter(x=data['Longitude'], y=data['Latitude'])\n",
        "plt.scatter(x=data.loc[(data['corner'] == 1) & (data['Gy clean'].abs() >11), 'Longitude'], y=data.loc[(data['corner'] == 1) \n",
        "& (data['Gy clean'].abs() >11),'Latitude'], color = 'y')"
      ],
      "metadata": {
        "colab": {
          "base_uri": "https://localhost:8080/",
          "height": 306
        },
        "id": "1CtsYDbk-O8m",
        "outputId": "20c80bca-f058-4a70-d3bb-db9ef610196a"
      },
      "execution_count": null,
      "outputs": [
        {
          "output_type": "execute_result",
          "data": {
            "text/plain": [
              "<matplotlib.collections.PathCollection at 0x7f36535a1c70>"
            ]
          },
          "metadata": {},
          "execution_count": 144
        },
        {
          "output_type": "display_data",
          "data": {
            "text/plain": [
              "<Figure size 432x288 with 1 Axes>"
            ],
            "image/png": "[encoded data removed]"
          },
          "metadata": {
            "needs_background": "light"
          }
        }
      ]
    },
    {
      "cell_type": "code",
      "source": [
        "import pandas as pd\n",
        "from sklearn.cluster import DBSCAN\n",
        "import matplotlib.pyplot as plt"
      ],
      "metadata": {
        "id": "nSSBsQfTHtCh"
      },
      "execution_count": 4,
      "outputs": []
    },
    {
      "cell_type": "code",
      "source": [
        "coords = data[['Longitude', 'Latitude']].to_numpy()"
      ],
      "metadata": {
        "id": "fm2QfDzaHwu5"
      },
      "execution_count": 5,
      "outputs": []
    },
    {
      "cell_type": "code",
      "source": [
        "model = DBSCAN(eps=0.0003, min_samples=30)\n",
        "model.fit(coords)\n",
        "labels = model.labels_\n",
        "\n",
        "plt.scatter(data['Longitude'], data['Latitude'], c=labels)\n",
        "plt.xlabel('Longitude')\n",
        "plt.ylabel('Latitude')\n",
        "plt.show()\n",
        "\n",
        "\n",
        "corners = []\n",
        "for i in range(1, len(labels)):\n",
        "    if labels[i] != labels[i-1]:\n",
        "        corners.append(i)"
      ],
      "metadata": {
        "id": "h6WsJTcGH3my",
        "outputId": "dc1084f8-bebe-45d8-b7cf-a4ff0f029bd7",
        "colab": {
          "base_uri": "https://localhost:8080/",
          "height": 290
        }
      },
      "execution_count": 43,
      "outputs": [
        {
          "output_type": "display_data",
          "data": {
            "text/plain": [
              "<Figure size 432x288 with 1 Axes>"
            ],
            "image/png": "[encoded data removed]"
          },
          "metadata": {
            "needs_background": "light"
          }
        }
      ]
    },
    {
      "cell_type": "code",
      "source": [
        "A = (12.92473, 77.6183)\n",
        "B = (12.92512, 77.61923)\n",
        "C = (12.92541, 77.61985)\n",
        "\n",
        "# Convert the points to numpy latitude/longitude radians space\n",
        "a = np.radians(np.array(A))\n",
        "b = np.radians(np.array(B))\n",
        "c = np.radians(np.array(C))\n",
        "\n",
        "print(a,b,c)"
      ],
      "metadata": {
        "id": "YWCmd141Upw-",
        "outputId": "2dd1ff24-fa95-4fa6-aad6-349f61da895c",
        "colab": {
          "base_uri": "https://localhost:8080/"
        }
      },
      "execution_count": 53,
      "outputs": [
        {
          "output_type": "stream",
          "name": "stdout",
          "text": [
            "[0.22557909 1.35469489] [0.2255859  1.35471113] [0.22559096 1.35472195]\n"
          ]
        }
      ]
    },
    {
      "cell_type": "code",
      "source": [
        "temp_df['one'].shift(2)"
      ],
      "metadata": {
        "id": "QMXsva0TU7Q-",
        "outputId": "497955f3-e112-433e-bb14-4aa3ecb9f037",
        "colab": {
          "base_uri": "https://localhost:8080/"
        }
      },
      "execution_count": 63,
      "outputs": [
        {
          "output_type": "execute_result",
          "data": {
            "text/plain": [
              "0         NaN\n",
              "1         NaN\n",
              "2    12.92473\n",
              "Name: one, dtype: float64"
            ]
          },
          "metadata": {},
          "execution_count": 63
        }
      ]
    },
    {
      "cell_type": "code",
      "source": [
        "shift_parameter = 20\n",
        "\n",
        "\n",
        "# Convert the points to numpy latitude/longitude radians space\n",
        "\n",
        "data['Lat converted'] = np.radians(data['Latitude'])\n",
        "data['Lon converted'] = np.radians(data['Longitude'])\n",
        "\n",
        "#past reference point\n",
        "data['Lat before'] = data['Lat converted'].shift(shift_parameter)\n",
        "data['Lon before'] = data['Lon converted'].shift(shift_parameter)\n",
        "\n",
        "#future reference point\n",
        "data['Lat after'] = data['Lat converted'].shift(-shift_parameter)\n",
        "data['Lon after'] = data['Lon converted'].shift(-shift_parameter)\n",
        "\n",
        "\n",
        "# Vectors in latitude/longitude space\n",
        "data['vector prev'] = (np.array(data[['Lat converted', 'Lon converted']]) - np.array(data[['Lat before', 'Lon before']])).tolist()\n",
        "data['vector past'] = (np.array(data[['Lat converted', 'Lon converted']]) - np.array(data[['Lat after', 'Lon after']])).tolist()"
      ],
      "metadata": {
        "id": "xDvbrNtgXz-g"
      },
      "execution_count": 108,
      "outputs": []
    },
    {
      "cell_type": "code",
      "source": [
        "np.degrees(math.acos(np.dot(data['vector prev'][30], data['vector past'][30]) / (np.linalg.norm(data['vector prev'][30]) * np.linalg.norm(data['vector past'][30]))))"
      ],
      "metadata": {
        "id": "fEs25UPoyLh2",
        "outputId": "a599c7d9-567a-4fcd-9029-3d351dcac0ef",
        "colab": {
          "base_uri": "https://localhost:8080/"
        }
      },
      "execution_count": 127,
      "outputs": [
        {
          "output_type": "execute_result",
          "data": {
            "text/plain": [
              "179.72609439156923"
            ]
          },
          "metadata": {},
          "execution_count": 127
        }
      ]
    },
    {
      "cell_type": "code",
      "source": [
        "for i in len(data):\n",
        "  print(i)"
      ],
      "metadata": {
        "id": "RI_fASdJ4gLB",
        "outputId": "9d66f52f-629f-4394-a377-bcbe052f46a4",
        "colab": {
          "base_uri": "https://localhost:8080/"
        }
      },
      "execution_count": 131,
      "outputs": [
        {
          "output_type": "stream",
          "name": "stdout",
          "text": [
            "0\n",
            "4202\n"
          ]
        }
      ]
    }
  ]
}