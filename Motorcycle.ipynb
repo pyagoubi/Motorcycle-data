{
  "nbformat": 4,
  "nbformat_minor": 0,
  "metadata": {
    "colab": {
      "provenance": [],
      "authorship_tag": "ABX9TyPeQIiZ/mgcIKB7ZqfDjwv6",
      "include_colab_link": true
    },
    "kernelspec": {
      "name": "python3",
      "display_name": "Python 3"
    },
    "language_info": {
      "name": "python"
    }
  },
  "cells": [
    {
      "cell_type": "markdown",
      "metadata": {
        "id": "view-in-github",
        "colab_type": "text"
      },
      "source": [
        "<a href=\"https://colab.research.google.com/github/pyagoubi/Motorcycle-data/blob/main/Motorcycle.ipynb\" target=\"_parent\"><img src=\"https://colab.research.google.com/assets/colab-badge.svg\" alt=\"Open In Colab\"/></a>"
      ]
    },
    {
      "cell_type": "code",
      "execution_count": 17,
      "metadata": {
        "colab": {
          "base_uri": "https://localhost:8080/"
        },
        "id": "hfzX3Acd8Ng0",
        "outputId": "6fdfc2c2-409c-4192-c732-1acf9f93083a"
      },
      "outputs": [
        {
          "output_type": "stream",
          "name": "stdout",
          "text": [
            "Drive already mounted at /content/drive; to attempt to forcibly remount, call drive.mount(\"/content/drive\", force_remount=True).\n"
          ]
        }
      ],
      "source": [
        "#Mounting Google Drive\n",
        "from google.colab import drive\n",
        "drive.mount('/content/drive')"
      ]
    },
    {
      "cell_type": "code",
      "source": [
        "%%capture\n",
        "pip install geopandas"
      ],
      "metadata": {
        "id": "eA_HQ1NU0SVo"
      },
      "execution_count": 19,
      "outputs": []
    },
    {
      "cell_type": "code",
      "source": [
        "import pandas as pd\n",
        "import matplotlib.pyplot as plt\n",
        "import numpy as np\n",
        "import math\n",
        "from sklearn.cluster import KMeans\n",
        "from sklearn.cluster import DBSCAN\n",
        "from geopy.distance import great_circle\n",
        "from shapely.geometry import MultiPoint\n",
        "import geopandas\n",
        "import geopy.distance\n",
        "\n",
        "data = pd.read_csv('/content/drive/MyDrive/upwork1/DATA1.TXT', sep=',')\n",
        "data['Gx clean'] = data['Gx']-data['Gx Cal']\n",
        "data['Gy clean'] = data['Gy']-data['Gy Cal']\n",
        "\n",
        "\n",
        "#Parameters\n",
        "\n",
        "shift_a = 30\n",
        "degree_min = 50\n",
        "min_samples = 50\n",
        "cluster_area = 0.02\n",
        "\n",
        "\n",
        "def angle_corner(df, shift_parameter = shift_a, degree_pm = degree_min):\n",
        "\n",
        "  df['degrees'] = 0\n",
        "  df['corner_a'] = 0\n",
        "\n",
        "  for i in df['SessionID'].unique():\n",
        "    \n",
        "    \n",
        "    data = df[df['SessionID'] == i]\n",
        "\n",
        "    # Convert the points to numpy latitude/longitude radians space\n",
        "\n",
        "    data['Lat converted'] = np.radians(data['Latitude'])\n",
        "    data['Lon converted'] = np.radians(data['Longitude'])\n",
        "\n",
        "    #past reference point\n",
        "    data['Lat before'] = data['Lat converted'].shift(shift_parameter)\n",
        "    data['Lon before'] = data['Lon converted'].shift(shift_parameter)\n",
        "\n",
        "    #future reference point\n",
        "    data['Lat after'] = data['Lat converted'].shift(-shift_parameter)\n",
        "    data['Lon after'] = data['Lon converted'].shift(-shift_parameter)\n",
        "\n",
        "\n",
        "    # Vectors in latitude/longitude space\n",
        "    data['vector prev'] = (np.array(data[['Lat converted', 'Lon converted']]) - np.array(data[['Lat before', 'Lon before']])).tolist()\n",
        "    data['vector past'] = (np.array(data[['Lat converted', 'Lon converted']]) - np.array(data[['Lat after', 'Lon after']])).tolist()\n",
        "\n",
        "\n",
        "    for j in range(len(data)):\n",
        "      if np.isnan(data['vector prev'][j][0]) == False:\n",
        "        data.iloc[j, data.columns.get_loc('degrees')] = np.degrees(math.acos(np.dot(data['vector prev'][j], data['vector past'][j]) / (np.linalg.norm(data['vector prev'][j]) * np.linalg.norm(data['vector past'][j]) +1e-20)))\n",
        "        #print(data.iloc[i, data.columns.get_loc('degrees')])\n",
        "    \n",
        "    data.loc[(data['degrees'] < (180 - degree_pm) )  |  (data['degrees'] > (180 + degree_pm) )    , 'corner_a'] = 1\n",
        "\n",
        "    df.loc[df['SessionID'] == i, 'corner_a'] = data['corner_a']\n",
        "    df.loc[df['SessionID'] == i, 'degrees'] = data['degrees'] \n",
        "\n",
        "\n",
        "  plt.scatter(x=df['Longitude'], y=df['Latitude'])\n",
        "  plt.scatter(x=df.loc[(df['corner_a'] == 1), 'Longitude'], y=df.loc[(df['corner_a'] == 1),'Latitude'], color = 'y')  \n",
        "\n",
        "  return df\n",
        "\n",
        "data = angle_corner(data, shift_parameter = shift_a, degree_pm = degree_min)"
      ],
      "metadata": {
        "id": "uUVpUfIG8yIS",
        "colab": {
          "base_uri": "https://localhost:8080/",
          "height": 289
        },
        "outputId": "b83a80b8-5de2-4171-ac51-1548699ec753"
      },
      "execution_count": 143,
      "outputs": [
        {
          "output_type": "display_data",
          "data": {
            "text/plain": [
              "<Figure size 432x288 with 1 Axes>"
            ],
            "image/png": "[encoded data removed]"
          },
          "metadata": {
            "needs_background": "light"
          }
        }
      ]
    },
    {
      "cell_type": "markdown",
      "source": [
        "# Identifying true corners with DBSCAN\n"
      ],
      "metadata": {
        "id": "n0tU29omnQCE"
      }
    },
    {
      "cell_type": "code",
      "source": [
        "def true_corners(df, min_samples=min_samples, cluster_area = cluster_area):\n",
        "  \n",
        "  coords = df.loc[df['corner_a']==1, ['Longitude', 'Latitude']]\n",
        "  db = DBSCAN(eps=cluster_area/6371., min_samples=min_samples, algorithm='ball_tree', metric='haversine').fit(np.radians(df.loc[df['corner_a']==1, ['Longitude', 'Latitude']]))\n",
        "\n",
        "  cluster_labels = db.labels_\n",
        "\n",
        "  df['Corner Number'] = -1\n",
        "  num_clusters = len(set(cluster_labels))\n",
        "  clusters = pd.Series([coords[cluster_labels == n] for n in range(num_clusters)])\n",
        "\n",
        "  df.loc[df['corner_a']==1, 'Corner Number'] = cluster_labels\n",
        "\n",
        "  plt.scatter(x=df['Longitude'], y=df['Latitude'])\n",
        "  plt.scatter(x=df.loc[(df['Corner Number'] >= 0), 'Longitude'], y=df.loc[(df['Corner Number'] >= 0),'Latitude'], color = 'y') \n",
        "\n",
        "  return df\n",
        "\n",
        "data = true_corners(data)\n"
      ],
      "metadata": {
        "colab": {
          "base_uri": "https://localhost:8080/",
          "height": 289
        },
        "id": "hYNxAPiQEPBu",
        "outputId": "7e386d4d-8485-4cea-b78c-b0e5cf8fa17a"
      },
      "execution_count": 144,
      "outputs": [
        {
          "output_type": "display_data",
          "data": {
            "text/plain": [
              "<Figure size 432x288 with 1 Axes>"
            ],
            "image/png": "[encoded data removed]"
          },
          "metadata": {
            "needs_background": "light"
          }
        }
      ]
    },
    {
      "cell_type": "markdown",
      "source": [
        "# Determine Reference points "
      ],
      "metadata": {
        "id": "7Zk5j4LhGC6t"
      }
    },
    {
      "cell_type": "code",
      "source": [
        "def centroids(df):\n",
        "\n",
        "  corners_df = pd.DataFrame()\n",
        "\n",
        "  centroid_x = []\n",
        "  centroid_y = []\n",
        "\n",
        "  corners = df['Corner Number'].unique().tolist()\n",
        "  corners.remove(-1)\n",
        "\n",
        "  for corner in corners:\n",
        "    point = MultiPoint(geopandas.points_from_xy(df.loc[df['Corner Number'] == corner,'Longitude'], df.loc[df['Corner Number'] == corner, 'Latitude'] , crs=\"EPSG:4326\" ))\n",
        "    centroid_x.append(point.centroid.x)\n",
        "    centroid_y.append(point.centroid.y)\n",
        "    del point\n",
        "  \n",
        "  corners_df['Corner Nr'] = corners\n",
        "  corners_df['Longitude'] = centroid_x\n",
        "  corners_df['Latitude'] = centroid_y\n",
        "\n",
        "  plt.scatter(x=df['Longitude'], y=df['Latitude'])\n",
        "  plt.scatter(x=df.loc[(df['Corner Number'] >= 0), 'Longitude'], y=df.loc[(df['Corner Number'] >= 0),'Latitude'], color = 'y') \n",
        "  plt.scatter(x=corners_df['Longitude'], y=corners_df['Latitude'], color = 'r')\n",
        "\n",
        "  return corners_df\n",
        "\n",
        "reference_points = centroids(data)\n",
        "\n"
      ],
      "metadata": {
        "colab": {
          "base_uri": "https://localhost:8080/",
          "height": 289
        },
        "id": "kI0RU-LyGBHh",
        "outputId": "3797f62d-4c44-4428-ddd6-50edbc98fc67"
      },
      "execution_count": 145,
      "outputs": [
        {
          "output_type": "display_data",
          "data": {
            "text/plain": [
              "<Figure size 432x288 with 1 Axes>"
            ],
            "image/png": "[encoded data removed]"
          },
          "metadata": {
            "needs_background": "light"
          }
        }
      ]
    },
    {
      "cell_type": "markdown",
      "source": [
        "#Determine Breaking Points"
      ],
      "metadata": {
        "id": "2Qf2PJNA39wl"
      }
    },
    {
      "cell_type": "markdown",
      "source": [
        "Breaking points are considered local speed minima within a range of *proximity* meters within a corner reference point. Ths is considered the endpoint of the breaking and starting point of acceleration."
      ],
      "metadata": {
        "id": "8R0tMI5z4Ckm"
      }
    },
    {
      "cell_type": "code",
      "source": [
        "# Calculate distances between reference points and track\n",
        "\n",
        "def distances(df, ref):\n",
        "  distances=[]\n",
        "  corner_no = reference_points['Corner Nr']\n",
        "  \n",
        "  for i in corner_no:\n",
        "    corner_lon = ref.loc[ref['Corner Nr']== i , 'Longitude'].values[0]\n",
        "    corner_lat = ref.loc[ref['Corner Nr']== i , 'Latitude'].values[0]\n",
        "    cent = (corner_lat,corner_lon)\n",
        "    for j in range(len(data)):\n",
        "      dist = geopy.distance.geodesic(cent, coordinates[j]).m   \n",
        "      distances.append(dist)\n",
        "    df[f'Distance from corner {i}'] = distances\n",
        "    distances=[]\n",
        "\n",
        "  return df\n",
        "       "
      ],
      "metadata": {
        "id": "QDZvIO4IuH2T"
      },
      "execution_count": 157,
      "outputs": []
    },
    {
      "cell_type": "code",
      "source": [
        "data = distances(data, reference_points)"
      ],
      "metadata": {
        "id": "qq4WylXozWXk"
      },
      "execution_count": 158,
      "outputs": []
    },
    {
      "cell_type": "code",
      "source": [
        "#All values after passing the closest point to centroid are multiplied by -1\n",
        "def adjust_distance(df, corner_no): \n",
        "  df['most_controid'] = 0\n",
        "  \n",
        "  for j in corner_no:\n",
        "    minids = df.groupby('Lap Number')[f'Distance from corner {j}'].apply(lambda x: x.idxmin())\n",
        "    for i in df['Lap Number'].unique():\n",
        "      df.loc[(df.index <= minids[i])  & (df['Lap Number'] == i) ,f'Distance from corner {j}'] *= -1\n",
        "      df.loc[df.index == minids[i],  'most_controid'] = j\n",
        "  \n",
        "  return df\n",
        "\n"
      ],
      "metadata": {
        "id": "LwkiRHR-zckR"
      },
      "execution_count": 159,
      "outputs": []
    },
    {
      "cell_type": "code",
      "source": [
        "corner_no = reference_points['Corner Nr']\n",
        "data = adjust_distance(data, corner_no)"
      ],
      "metadata": {
        "id": "856VwEjp4vGy"
      },
      "execution_count": 160,
      "outputs": []
    },
    {
      "cell_type": "code",
      "source": [
        "#plot\n",
        "\n",
        "def corner_behaviour(df,  corner_no):\n",
        "\n",
        "  corner_df = pd.DataFrame()\n",
        "\n",
        "  for i in corner_no:\n",
        "\n",
        "\n",
        "    data.loc[((data['Distance from corner 0'] <200) &  (data['Distance from corner 0'] >= 0))  | \n",
        "                               ((data['Distance from corner 0'] > -50) &  (data['Distance from corner 0'] < 0)), 'Speed'], 'Distance from corner 0')\n",
        "\n",
        "\n",
        "\n",
        "sns.lineplot('Distance from corner 0', 'value', hue='variable', \n",
        "             data=pd.melt(data.loc[((data['Distance from corner 0'] <200) &  (data['Distance from corner 0'] > 0))  | \n",
        "                               ((data['Distance from corner 0'] > -50) &  (data['Distance from corner 0'] < 0)), 'Speed'], 'Distance from corner 0'))"
      ],
      "metadata": {
        "id": "zUNx71-y5tPC",
        "outputId": "08744039-cac9-4aa4-9635-0028f79cdc81",
        "colab": {
          "base_uri": "https://localhost:8080/",
          "height": 363
        }
      },
      "execution_count": 166,
      "outputs": [
        {
          "output_type": "error",
          "ename": "AttributeError",
          "evalue": "ignored",
          "traceback": [
            "\u001b[0;31m---------------------------------------------------------------------------\u001b[0m",
            "\u001b[0;31mAttributeError\u001b[0m                            Traceback (most recent call last)",
            "\u001b[0;32m<ipython-input-166-1dec1be9590b>\u001b[0m in \u001b[0;36m<module>\u001b[0;34m\u001b[0m\n\u001b[1;32m      2\u001b[0m \u001b[0;34m\u001b[0m\u001b[0m\n\u001b[1;32m      3\u001b[0m sns.lineplot('Distance from corner 0', 'value', hue='variable', \n\u001b[0;32m----> 4\u001b[0;31m              data=pd.melt(data.loc[((data['Distance from corner 0'] <200) &  (data['Distance from corner 0'] > 0))  | \n\u001b[0m\u001b[1;32m      5\u001b[0m                                ((data['Distance from corner 0'] > -50) &  (data['Distance from corner 0'] < 0)), 'Speed'], 'Distance from corner 0'))\n",
            "\u001b[0;32m/usr/local/lib/python3.8/dist-packages/pandas/core/reshape/melt.py\u001b[0m in \u001b[0;36mmelt\u001b[0;34m(frame, id_vars, value_vars, var_name, value_name, col_level, ignore_index)\u001b[0m\n\u001b[1;32m     53\u001b[0m     \u001b[0;31m# If multiindex, gather names of columns on all level for checking presence\u001b[0m\u001b[0;34m\u001b[0m\u001b[0;34m\u001b[0m\u001b[0;34m\u001b[0m\u001b[0m\n\u001b[1;32m     54\u001b[0m     \u001b[0;31m# of `id_vars` and `value_vars`\u001b[0m\u001b[0;34m\u001b[0m\u001b[0;34m\u001b[0m\u001b[0;34m\u001b[0m\u001b[0m\n\u001b[0;32m---> 55\u001b[0;31m     \u001b[0;32mif\u001b[0m \u001b[0misinstance\u001b[0m\u001b[0;34m(\u001b[0m\u001b[0mframe\u001b[0m\u001b[0;34m.\u001b[0m\u001b[0mcolumns\u001b[0m\u001b[0;34m,\u001b[0m \u001b[0mMultiIndex\u001b[0m\u001b[0;34m)\u001b[0m\u001b[0;34m:\u001b[0m\u001b[0;34m\u001b[0m\u001b[0;34m\u001b[0m\u001b[0m\n\u001b[0m\u001b[1;32m     56\u001b[0m         \u001b[0mcols\u001b[0m \u001b[0;34m=\u001b[0m \u001b[0;34m[\u001b[0m\u001b[0mx\u001b[0m \u001b[0;32mfor\u001b[0m \u001b[0mc\u001b[0m \u001b[0;32min\u001b[0m \u001b[0mframe\u001b[0m\u001b[0;34m.\u001b[0m\u001b[0mcolumns\u001b[0m \u001b[0;32mfor\u001b[0m \u001b[0mx\u001b[0m \u001b[0;32min\u001b[0m \u001b[0mc\u001b[0m\u001b[0;34m]\u001b[0m\u001b[0;34m\u001b[0m\u001b[0;34m\u001b[0m\u001b[0m\n\u001b[1;32m     57\u001b[0m     \u001b[0;32melse\u001b[0m\u001b[0;34m:\u001b[0m\u001b[0;34m\u001b[0m\u001b[0;34m\u001b[0m\u001b[0m\n",
            "\u001b[0;32m/usr/local/lib/python3.8/dist-packages/pandas/core/generic.py\u001b[0m in \u001b[0;36m__getattr__\u001b[0;34m(self, name)\u001b[0m\n\u001b[1;32m   5485\u001b[0m         ):\n\u001b[1;32m   5486\u001b[0m             \u001b[0;32mreturn\u001b[0m \u001b[0mself\u001b[0m\u001b[0;34m[\u001b[0m\u001b[0mname\u001b[0m\u001b[0;34m]\u001b[0m\u001b[0;34m\u001b[0m\u001b[0;34m\u001b[0m\u001b[0m\n\u001b[0;32m-> 5487\u001b[0;31m         \u001b[0;32mreturn\u001b[0m \u001b[0mobject\u001b[0m\u001b[0;34m.\u001b[0m\u001b[0m__getattribute__\u001b[0m\u001b[0;34m(\u001b[0m\u001b[0mself\u001b[0m\u001b[0;34m,\u001b[0m \u001b[0mname\u001b[0m\u001b[0;34m)\u001b[0m\u001b[0;34m\u001b[0m\u001b[0;34m\u001b[0m\u001b[0m\n\u001b[0m\u001b[1;32m   5488\u001b[0m \u001b[0;34m\u001b[0m\u001b[0m\n\u001b[1;32m   5489\u001b[0m     \u001b[0;32mdef\u001b[0m \u001b[0m__setattr__\u001b[0m\u001b[0;34m(\u001b[0m\u001b[0mself\u001b[0m\u001b[0;34m,\u001b[0m \u001b[0mname\u001b[0m\u001b[0;34m:\u001b[0m \u001b[0mstr\u001b[0m\u001b[0;34m,\u001b[0m \u001b[0mvalue\u001b[0m\u001b[0;34m)\u001b[0m \u001b[0;34m->\u001b[0m \u001b[0;32mNone\u001b[0m\u001b[0;34m:\u001b[0m\u001b[0;34m\u001b[0m\u001b[0;34m\u001b[0m\u001b[0m\n",
            "\u001b[0;31mAttributeError\u001b[0m: 'Series' object has no attribute 'columns'"
          ]
        }
      ]
    },
    {
      "cell_type": "code",
      "source": [
        "data.loc[((data['Distance from corner 0'] <200) &  (data['Distance from corner 0'] > 0))  | \n",
        "                               ((data['Distance from corner 0'] > -50) &  (data['Distance from corner 0'] < 0)), 'Speed']"
      ],
      "metadata": {
        "id": "VuSAZirJ5tKn",
        "outputId": "d029bdf0-f105-446e-82f4-d5d96f6869d2",
        "colab": {
          "base_uri": "https://localhost:8080/"
        }
      },
      "execution_count": 167,
      "outputs": [
        {
          "output_type": "execute_result",
          "data": {
            "text/plain": [
              "63      24.45\n",
              "64      24.24\n",
              "65      24.32\n",
              "66      24.30\n",
              "67      24.16\n",
              "        ...  \n",
              "3402    49.53\n",
              "3403    50.28\n",
              "3404    50.77\n",
              "3405    51.27\n",
              "3406    52.63\n",
              "Name: Speed, Length: 877, dtype: float64"
            ]
          },
          "metadata": {},
          "execution_count": 167
        }
      ]
    },
    {
      "cell_type": "code",
      "source": [],
      "metadata": {
        "id": "GYtI77YT5tGH"
      },
      "execution_count": null,
      "outputs": []
    },
    {
      "cell_type": "code",
      "source": [],
      "metadata": {
        "id": "0WbehPcK5s03"
      },
      "execution_count": null,
      "outputs": []
    },
    {
      "cell_type": "code",
      "source": [
        "sns.lineplot(data=data[data['Lap Number']==3], x='Distance from corner 2', y='Speed')"
      ],
      "metadata": {
        "colab": {
          "base_uri": "https://localhost:8080/",
          "height": 299
        },
        "id": "0LE2ab6EWiw_",
        "outputId": "a0d5f1d7-e7ff-483b-fa9b-4ce62a947944"
      },
      "execution_count": 162,
      "outputs": [
        {
          "output_type": "execute_result",
          "data": {
            "text/plain": [
              "<AxesSubplot:xlabel='Distance from corner 2', ylabel='Speed'>"
            ]
          },
          "metadata": {},
          "execution_count": 162
        },
        {
          "output_type": "display_data",
          "data": {
            "text/plain": [
              "<Figure size 432x288 with 1 Axes>"
            ],
            "image/png": "[encoded data removed]"
          },
          "metadata": {
            "needs_background": "light"
          }
        }
      ]
    }
  ]
}